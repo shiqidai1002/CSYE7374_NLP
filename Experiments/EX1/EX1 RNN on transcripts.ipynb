{
 "cells": [
  {
   "cell_type": "code",
   "execution_count": 9,
   "metadata": {},
   "outputs": [],
   "source": [
    "# -*- coding: utf-8 -*-\n",
    "import os\n",
    "import sys\n",
    "import numpy as np\n",
    "from keras.preprocessing.text import Tokenizer\n",
    "from keras.preprocessing.sequence import pad_sequences\n",
    "from keras.utils import to_categorical\n",
    "from keras.layers import Dense, Input, GlobalMaxPooling1D\n",
    "from keras.layers import Conv1D, MaxPooling1D, Embedding, Dropout, SimpleRNN, LSTM\n",
    "from keras.models import Sequential\n",
    "from keras.initializers import Constant\n",
    "import json\n",
    "\n",
    "BASE_DIR = ''\n",
    "GLOVE_DIR = os.path.join(BASE_DIR, 'glove.6B')\n",
    "TEXT_DATA_DIR = os.path.join(BASE_DIR, 'data')\n",
    "MAX_SEQUENCE_LENGTH = 1000\n",
    "MAX_NUM_WORDS = 20000\n",
    "EMBEDDING_DIM = 100\n",
    "VALIDATION_SPLIT = 0.2"
   ]
  },
  {
   "cell_type": "code",
   "execution_count": 2,
   "metadata": {},
   "outputs": [
    {
     "name": "stdout",
     "output_type": "stream",
     "text": [
      "Indexing word vectors.\n",
      "Found 400001 word vectors.\n"
     ]
    }
   ],
   "source": [
    "# first, build index mapping words in the embeddings set\n",
    "# to their embedding vector\n",
    "\n",
    "print('Indexing word vectors.')\n",
    "\n",
    "embeddings_index = {}\n",
    "with open(os.path.join(GLOVE_DIR, 'glove.6B.100d.txt'),'rb') as f:\n",
    "    for line in f:\n",
    "        values = line.split()\n",
    "        word = values[0]\n",
    "        coefs = np.asarray(values[1:], dtype='float32')\n",
    "        embeddings_index[word] = coefs\n",
    "\n",
    "print('Found %s word vectors.' % len(embeddings_index))\n",
    "\n"
   ]
  },
  {
   "cell_type": "code",
   "execution_count": 3,
   "metadata": {},
   "outputs": [
    {
     "name": "stdout",
     "output_type": "stream",
     "text": [
      "Processing text dataset\n",
      "Found 622 texts.\n"
     ]
    }
   ],
   "source": [
    "# second, prepare text samples and their labels\n",
    "print('Processing text dataset')\n",
    "\n",
    "texts = []  # list of text samples\n",
    "labels_index = {'negative':0,'positive':1,'neutral':2}  # dictionary mapping label name to numeric id\n",
    "\n",
    "labels = []  # list of label ids\n",
    "file_list = os.listdir(TEXT_DATA_DIR)\n",
    "for file in file_list:\n",
    "    with open('data/' + file, 'r') as f:\n",
    "        transcripts = json.load(f)\n",
    "        texts.extend(transcripts['text'].values())\n",
    "        labels.extend(transcripts['sentiment'].values())\n",
    "\n",
    "for i in range(len(labels)):\n",
    "    labels[i] = labels_index[labels[i]]\n",
    "\n",
    "\n",
    "print('Found %s texts.' % len(texts))"
   ]
  },
  {
   "cell_type": "code",
   "execution_count": 4,
   "metadata": {},
   "outputs": [
    {
     "name": "stdout",
     "output_type": "stream",
     "text": [
      "Found 3710 unique tokens.\n",
      "Shape of data tensor: (622, 1000)\n",
      "Shape of label tensor: (622, 3)\n"
     ]
    }
   ],
   "source": [
    "# finally, vectorize the text samples into a 2D integer tensor\n",
    "tokenizer = Tokenizer(num_words=MAX_NUM_WORDS)\n",
    "tokenizer.fit_on_texts(texts)\n",
    "sequences = tokenizer.texts_to_sequences(texts)\n",
    "\n",
    "word_index = tokenizer.word_index\n",
    "print('Found %s unique tokens.' % len(word_index))\n",
    "\n",
    "data = pad_sequences(sequences, maxlen=MAX_SEQUENCE_LENGTH)\n",
    "\n",
    "labels = to_categorical(np.asarray(labels))\n",
    "print('Shape of data tensor:', data.shape)\n",
    "print('Shape of label tensor:', labels.shape)"
   ]
  },
  {
   "cell_type": "code",
   "execution_count": 5,
   "metadata": {},
   "outputs": [],
   "source": [
    "# split the data into a training set and a validation set\n",
    "indices = np.arange(data.shape[0])\n",
    "np.random.shuffle(indices)\n",
    "data = data[indices]\n",
    "labels = labels[indices]\n",
    "num_validation_samples = int(VALIDATION_SPLIT * data.shape[0])\n",
    "\n",
    "x_train = data[:-num_validation_samples]\n",
    "y_train = labels[:-num_validation_samples]\n",
    "x_val = data[-num_validation_samples:]\n",
    "y_val = labels[-num_validation_samples:]"
   ]
  },
  {
   "cell_type": "code",
   "execution_count": 6,
   "metadata": {},
   "outputs": [],
   "source": [
    "# prepare embedding matrix\n",
    "num_words = min(MAX_NUM_WORDS, len(word_index)) + 1\n",
    "embedding_matrix = np.zeros((num_words, EMBEDDING_DIM))\n",
    "for word, i in word_index.items():\n",
    "    if i > MAX_NUM_WORDS:\n",
    "        continue\n",
    "    embedding_vector = embeddings_index.get(word)\n",
    "    if embedding_vector is not None:\n",
    "        # words not found in embedding index will be all-zeros.\n",
    "        embedding_matrix[i] = embedding_vector"
   ]
  },
  {
   "cell_type": "code",
   "execution_count": 7,
   "metadata": {},
   "outputs": [],
   "source": [
    "# load pre-trained word embeddings into an Embedding layer\n",
    "# note that we set trainable = False so as to keep the embeddings fixed\n",
    "embedding_layer = Embedding(num_words,\n",
    "                            EMBEDDING_DIM,\n",
    "                            embeddings_initializer=Constant(embedding_matrix),\n",
    "                            input_length=MAX_SEQUENCE_LENGTH,\n",
    "                            trainable=False)"
   ]
  },
  {
   "cell_type": "code",
   "execution_count": 10,
   "metadata": {},
   "outputs": [
    {
     "name": "stdout",
     "output_type": "stream",
     "text": [
      "_________________________________________________________________\n",
      "Layer (type)                 Output Shape              Param #   \n",
      "=================================================================\n",
      "embedding_1 (Embedding)      (None, 1000, 100)         371100    \n",
      "_________________________________________________________________\n",
      "lstm_1 (LSTM)                (None, 100)               80400     \n",
      "_________________________________________________________________\n",
      "dense_1 (Dense)              (None, 3)                 303       \n",
      "=================================================================\n",
      "Total params: 451,803\n",
      "Trainable params: 80,703\n",
      "Non-trainable params: 371,100\n",
      "_________________________________________________________________\n",
      "Train on 498 samples, validate on 124 samples\n",
      "Epoch 1/10\n",
      "498/498 [==============================] - 28s 56ms/step - loss: 1.0761 - acc: 0.4217 - val_loss: 1.0124 - val_acc: 0.4677\n",
      "Epoch 2/10\n",
      "498/498 [==============================] - 28s 56ms/step - loss: 1.0424 - acc: 0.5201 - val_loss: 1.0188 - val_acc: 0.4677\n",
      "Epoch 3/10\n",
      "498/498 [==============================] - 29s 58ms/step - loss: 1.0077 - acc: 0.5201 - val_loss: 0.9731 - val_acc: 0.4677\n",
      "Epoch 4/10\n",
      "498/498 [==============================] - 29s 57ms/step - loss: 0.9625 - acc: 0.5201 - val_loss: 0.9354 - val_acc: 0.4677\n",
      "Epoch 5/10\n",
      "498/498 [==============================] - 30s 59ms/step - loss: 0.9719 - acc: 0.5201 - val_loss: 0.9349 - val_acc: 0.4677\n",
      "Epoch 6/10\n",
      "498/498 [==============================] - 29s 58ms/step - loss: 0.9490 - acc: 0.5201 - val_loss: 0.9321 - val_acc: 0.4677\n",
      "Epoch 7/10\n",
      "498/498 [==============================] - 33s 67ms/step - loss: 0.9495 - acc: 0.5201 - val_loss: 0.9469 - val_acc: 0.4677\n",
      "Epoch 8/10\n",
      "498/498 [==============================] - 34s 68ms/step - loss: 0.9575 - acc: 0.5201 - val_loss: 0.9211 - val_acc: 0.4677\n",
      "Epoch 9/10\n",
      "498/498 [==============================] - 37s 74ms/step - loss: 0.9500 - acc: 0.5201 - val_loss: 0.9247 - val_acc: 0.4677\n",
      "Epoch 10/10\n",
      "498/498 [==============================] - 32s 64ms/step - loss: 0.9565 - acc: 0.5201 - val_loss: 0.9228 - val_acc: 0.4677\n"
     ]
    },
    {
     "data": {
      "text/plain": [
       "<keras.callbacks.History at 0x2285076c710>"
      ]
     },
     "execution_count": 10,
     "metadata": {},
     "output_type": "execute_result"
    }
   ],
   "source": [
    "# build RNN model\n",
    "model = Sequential()\n",
    "model.add(embedding_layer)\n",
    "model.add(LSTM(100))\n",
    "model.add(Dense(len(labels_index), activation='softmax'))\n",
    "model.summary()\n",
    "\n",
    "model.compile(loss='categorical_crossentropy',\n",
    "              optimizer='rmsprop',\n",
    "              metrics=['acc'])\n",
    "\n",
    "model.fit(x_train, y_train,\n",
    "          batch_size=128,\n",
    "          epochs=10,\n",
    "          validation_data=(x_val, y_val))"
   ]
  },
  {
   "cell_type": "code",
   "execution_count": 11,
   "metadata": {},
   "outputs": [],
   "source": [
    "# Predicting the Test set results\n",
    "y_prob = model.predict(x_val)\n",
    "y_classes = y_prob.argmax(axis=-1)"
   ]
  },
  {
   "cell_type": "code",
   "execution_count": 15,
   "metadata": {},
   "outputs": [
    {
     "data": {
      "text/plain": [
       "array([[0.10576867, 0.5260474 , 0.3681839 ],\n",
       "       [0.10576867, 0.5260474 , 0.3681839 ],\n",
       "       [0.10576867, 0.5260474 , 0.3681839 ],\n",
       "       [0.10576867, 0.5260474 , 0.3681839 ],\n",
       "       [0.10576867, 0.5260474 , 0.3681839 ],\n",
       "       [0.10576867, 0.5260474 , 0.3681839 ],\n",
       "       [0.10576867, 0.5260474 , 0.3681839 ],\n",
       "       [0.10576867, 0.5260474 , 0.3681839 ],\n",
       "       [0.10576867, 0.5260474 , 0.3681839 ],\n",
       "       [0.10576867, 0.5260474 , 0.3681839 ],\n",
       "       [0.10576867, 0.5260474 , 0.3681839 ],\n",
       "       [0.10576867, 0.5260474 , 0.3681839 ],\n",
       "       [0.10576867, 0.5260474 , 0.3681839 ],\n",
       "       [0.10576867, 0.5260474 , 0.3681839 ],\n",
       "       [0.10576867, 0.5260474 , 0.3681839 ],\n",
       "       [0.10576867, 0.5260474 , 0.3681839 ],\n",
       "       [0.10576867, 0.5260474 , 0.3681839 ],\n",
       "       [0.10576867, 0.5260474 , 0.3681839 ],\n",
       "       [0.10576867, 0.5260474 , 0.3681839 ],\n",
       "       [0.10576867, 0.5260474 , 0.3681839 ],\n",
       "       [0.10576867, 0.5260474 , 0.3681839 ],\n",
       "       [0.10576867, 0.5260474 , 0.3681839 ],\n",
       "       [0.10576867, 0.5260474 , 0.3681839 ],\n",
       "       [0.10576867, 0.5260474 , 0.3681839 ],\n",
       "       [0.10576867, 0.5260474 , 0.3681839 ],\n",
       "       [0.10576867, 0.5260474 , 0.3681839 ],\n",
       "       [0.10576867, 0.5260474 , 0.3681839 ],\n",
       "       [0.10576867, 0.5260474 , 0.3681839 ],\n",
       "       [0.10576867, 0.5260474 , 0.3681839 ],\n",
       "       [0.10576867, 0.5260474 , 0.3681839 ],\n",
       "       [0.10576867, 0.5260474 , 0.3681839 ],\n",
       "       [0.10576867, 0.5260474 , 0.3681839 ],\n",
       "       [0.10576867, 0.5260474 , 0.3681839 ],\n",
       "       [0.10576867, 0.5260474 , 0.3681839 ],\n",
       "       [0.10576867, 0.5260474 , 0.3681839 ],\n",
       "       [0.10576867, 0.5260474 , 0.3681839 ],\n",
       "       [0.10576867, 0.5260474 , 0.3681839 ],\n",
       "       [0.10576867, 0.5260474 , 0.3681839 ],\n",
       "       [0.10576867, 0.5260474 , 0.3681839 ],\n",
       "       [0.10576867, 0.5260474 , 0.3681839 ],\n",
       "       [0.10576867, 0.5260474 , 0.3681839 ],\n",
       "       [0.10576867, 0.5260474 , 0.3681839 ],\n",
       "       [0.10576867, 0.5260474 , 0.3681839 ],\n",
       "       [0.10576867, 0.5260474 , 0.3681839 ],\n",
       "       [0.10576867, 0.5260474 , 0.3681839 ],\n",
       "       [0.10576867, 0.5260474 , 0.3681839 ],\n",
       "       [0.10576867, 0.5260474 , 0.3681839 ],\n",
       "       [0.10576867, 0.5260474 , 0.3681839 ],\n",
       "       [0.10576867, 0.5260474 , 0.3681839 ],\n",
       "       [0.10576867, 0.5260474 , 0.3681839 ],\n",
       "       [0.10576867, 0.5260474 , 0.3681839 ],\n",
       "       [0.10576867, 0.5260474 , 0.3681839 ],\n",
       "       [0.10576867, 0.5260474 , 0.3681839 ],\n",
       "       [0.10576867, 0.5260474 , 0.3681839 ],\n",
       "       [0.10576867, 0.5260474 , 0.3681839 ],\n",
       "       [0.10576867, 0.5260474 , 0.3681839 ],\n",
       "       [0.10576867, 0.5260474 , 0.3681839 ],\n",
       "       [0.10576867, 0.5260474 , 0.3681839 ],\n",
       "       [0.10576867, 0.5260474 , 0.3681839 ],\n",
       "       [0.10576867, 0.5260474 , 0.3681839 ],\n",
       "       [0.10576867, 0.5260474 , 0.3681839 ],\n",
       "       [0.10576867, 0.5260474 , 0.3681839 ],\n",
       "       [0.10576867, 0.5260474 , 0.3681839 ],\n",
       "       [0.10576867, 0.5260474 , 0.3681839 ],\n",
       "       [0.10576867, 0.5260474 , 0.3681839 ],\n",
       "       [0.10576867, 0.5260474 , 0.3681839 ],\n",
       "       [0.10576867, 0.5260474 , 0.3681839 ],\n",
       "       [0.10576867, 0.5260474 , 0.3681839 ],\n",
       "       [0.10576867, 0.5260474 , 0.3681839 ],\n",
       "       [0.10576867, 0.5260474 , 0.3681839 ],\n",
       "       [0.10576867, 0.5260474 , 0.3681839 ],\n",
       "       [0.10576867, 0.5260474 , 0.3681839 ],\n",
       "       [0.10576867, 0.5260474 , 0.3681839 ],\n",
       "       [0.10576867, 0.5260474 , 0.3681839 ],\n",
       "       [0.10576867, 0.5260474 , 0.3681839 ],\n",
       "       [0.10576867, 0.5260474 , 0.3681839 ],\n",
       "       [0.10576867, 0.5260474 , 0.3681839 ],\n",
       "       [0.10576867, 0.5260474 , 0.3681839 ],\n",
       "       [0.10576867, 0.5260474 , 0.3681839 ],\n",
       "       [0.10576867, 0.5260474 , 0.3681839 ],\n",
       "       [0.10576867, 0.5260474 , 0.3681839 ],\n",
       "       [0.10576867, 0.5260474 , 0.3681839 ],\n",
       "       [0.10576867, 0.5260474 , 0.3681839 ],\n",
       "       [0.10576867, 0.5260474 , 0.3681839 ],\n",
       "       [0.10576867, 0.5260474 , 0.3681839 ],\n",
       "       [0.10576867, 0.5260474 , 0.3681839 ],\n",
       "       [0.10576867, 0.5260474 , 0.3681839 ],\n",
       "       [0.10576867, 0.5260474 , 0.3681839 ],\n",
       "       [0.10576867, 0.5260474 , 0.3681839 ],\n",
       "       [0.10576867, 0.5260474 , 0.3681839 ],\n",
       "       [0.10576867, 0.5260474 , 0.3681839 ],\n",
       "       [0.10576867, 0.5260474 , 0.3681839 ],\n",
       "       [0.10576867, 0.5260474 , 0.3681839 ],\n",
       "       [0.10576867, 0.5260474 , 0.3681839 ],\n",
       "       [0.10576867, 0.5260474 , 0.3681839 ],\n",
       "       [0.10576867, 0.5260474 , 0.3681839 ],\n",
       "       [0.10576867, 0.5260474 , 0.3681839 ],\n",
       "       [0.10576867, 0.5260474 , 0.3681839 ],\n",
       "       [0.10576867, 0.5260474 , 0.3681839 ],\n",
       "       [0.10576867, 0.5260474 , 0.3681839 ],\n",
       "       [0.10576867, 0.5260474 , 0.3681839 ],\n",
       "       [0.10576867, 0.5260474 , 0.3681839 ],\n",
       "       [0.10576867, 0.5260474 , 0.3681839 ],\n",
       "       [0.10576867, 0.5260474 , 0.3681839 ],\n",
       "       [0.10576867, 0.5260474 , 0.3681839 ],\n",
       "       [0.10576867, 0.5260474 , 0.3681839 ],\n",
       "       [0.10576867, 0.5260474 , 0.3681839 ],\n",
       "       [0.10576867, 0.5260474 , 0.3681839 ],\n",
       "       [0.10576867, 0.5260474 , 0.3681839 ],\n",
       "       [0.10576867, 0.5260474 , 0.3681839 ],\n",
       "       [0.10576867, 0.5260474 , 0.3681839 ],\n",
       "       [0.10576867, 0.5260474 , 0.3681839 ],\n",
       "       [0.10576867, 0.5260474 , 0.3681839 ],\n",
       "       [0.10576867, 0.5260474 , 0.3681839 ],\n",
       "       [0.10576867, 0.5260474 , 0.3681839 ],\n",
       "       [0.10576867, 0.5260474 , 0.3681839 ],\n",
       "       [0.10576867, 0.5260474 , 0.3681839 ],\n",
       "       [0.10576867, 0.5260474 , 0.3681839 ],\n",
       "       [0.10576867, 0.5260474 , 0.3681839 ],\n",
       "       [0.10576867, 0.5260474 , 0.3681839 ],\n",
       "       [0.10576867, 0.5260474 , 0.3681839 ],\n",
       "       [0.10576867, 0.5260474 , 0.3681839 ],\n",
       "       [0.10576867, 0.5260474 , 0.3681839 ],\n",
       "       [0.10576867, 0.5260474 , 0.3681839 ]], dtype=float32)"
      ]
     },
     "execution_count": 15,
     "metadata": {},
     "output_type": "execute_result"
    }
   ],
   "source": [
    "y_prob"
   ]
  },
  {
   "cell_type": "code",
   "execution_count": 12,
   "metadata": {},
   "outputs": [],
   "source": [
    "labels_index_2 = {0:'negative',1:'positive',2:'neutral'} \n",
    "def pred_vec_to_lebal(vecs,labels_index_2):\n",
    "    indices = [np.where(r==1)[0][0] for r in vecs]\n",
    "    labels = [labels_index_2[i] for i in indices]\n",
    "    return labels"
   ]
  },
  {
   "cell_type": "code",
   "execution_count": 13,
   "metadata": {},
   "outputs": [],
   "source": [
    "y_val_labels = pred_vec_to_lebal(y_val,labels_index_2)\n",
    "y_classes_labels = pred_vec_to_lebal(y_classes,labels_index_2)"
   ]
  },
  {
   "cell_type": "code",
   "execution_count": 14,
   "metadata": {},
   "outputs": [
    {
     "name": "stdout",
     "output_type": "stream",
     "text": [
      "         |  n     p |\n",
      "         |  e  n  o |\n",
      "         |  g  e  s |\n",
      "         |  a  u  i |\n",
      "         |  t  t  t |\n",
      "         |  i  r  i |\n",
      "         |  v  a  v |\n",
      "         |  e  l  e |\n",
      "---------+----------+\n",
      "negative | <9> .  . |\n",
      " neutral | 57 <.> . |\n",
      "positive | 58  . <.>|\n",
      "---------+----------+\n",
      "(row = reference; col = test)\n",
      "\n"
     ]
    }
   ],
   "source": [
    "from nltk.metrics import ConfusionMatrix\n",
    "print(ConfusionMatrix(y_val_labels, y_classes_labels))"
   ]
  }
 ],
 "metadata": {
  "kernelspec": {
   "display_name": "Python 3",
   "language": "python",
   "name": "python3"
  },
  "language_info": {
   "codemirror_mode": {
    "name": "ipython",
    "version": 3
   },
   "file_extension": ".py",
   "mimetype": "text/x-python",
   "name": "python",
   "nbconvert_exporter": "python",
   "pygments_lexer": "ipython3",
   "version": "3.6.6"
  }
 },
 "nbformat": 4,
 "nbformat_minor": 2
}
