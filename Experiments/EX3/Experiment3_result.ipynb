{
 "cells": [
  {
   "cell_type": "code",
   "execution_count": 1,
   "metadata": {},
   "outputs": [],
   "source": [
    "import pandas as pd\n",
    "import json\n",
    "import ast\n",
    "import csv"
   ]
  },
  {
   "cell_type": "code",
   "execution_count": 2,
   "metadata": {},
   "outputs": [],
   "source": [
    "ibm = pd.read_json('IBM_Api_sentiments.json')\n",
    "azure = pd.read_json('Azure_Api_sentiments.json')\n",
    "google = pd.read_json('Google_Api_sentiments.json')\n",
    "aws = pd.read_json('AWS_Api_sentiments.json')"
   ]
  },
  {
   "cell_type": "code",
   "execution_count": 4,
   "metadata": {},
   "outputs": [],
   "source": [
    "def IBMScores(df):\n",
    "    doclist = [d.get('document') for d in df['sentiment']]\n",
    "    j = 0\n",
    "    for i in doclist:\n",
    "        df['sentiment'][j] = i['score']\n",
    "        j+=1\n",
    "    return df\n",
    "\n",
    "def AzureScores(df):\n",
    "    doclist = [d.get('score') for d in df['documents']]\n",
    "    df['sentiment_score'] = doclist\n",
    "    return df\n",
    "\n",
    "def GoogleScores(df):\n",
    "    for i in range(len(df)):\n",
    "        df[0][i] = df[0][i].split(' ; Sentiment: ')[1]\n",
    "    return df\n",
    "\n",
    "def json_data(json, dataframe):\n",
    "    json_data = pd.read_json(json)\n",
    "    max_score = json_data[json_data['SentimentScore'] == json_data['SentimentScore'].max()]\n",
    "    dataframe = pd.concat([dataframe, max_score], axis = 0)\n",
    "    return dataframe"
   ]
  },
  {
   "cell_type": "code",
   "execution_count": 275,
   "metadata": {
    "scrolled": false
   },
   "outputs": [],
   "source": [
    "ibm = extractIBMScores(ibm)\n",
    "ibm.drop(columns=['language', 'usage'], inplace=True)\n",
    "azure = extractAzureScores(azure)\n",
    "azure.drop(columns='documents', inplace=True)\n",
    "google = extractGoogleScores(google)\n",
    "google[0] = pd.to_numeric(google[0])\n",
    "aws_df = pd.DataFrame()\n",
    "for i in range(len(aws)):\n",
    "    aws_df = json_data(aws[0][i],aws_df)\n",
    "aws_df.drop(columns=['ResponseMetadata', 'Sentiment'], inplace=True)\n",
    "aws_df.reset_index(drop=True, inplace=True)"
   ]
  },
  {
   "cell_type": "code",
   "execution_count": 276,
   "metadata": {},
   "outputs": [],
   "source": [
    "list = [ibm, azure, google, aws_df]\n",
    "combined_dataframe=pd.concat(list,axis=1)"
   ]
  },
  {
   "cell_type": "code",
   "execution_count": 279,
   "metadata": {},
   "outputs": [
    {
     "data": {
      "text/html": [
       "<div>\n",
       "<style scoped>\n",
       "    .dataframe tbody tr th:only-of-type {\n",
       "        vertical-align: middle;\n",
       "    }\n",
       "\n",
       "    .dataframe tbody tr th {\n",
       "        vertical-align: top;\n",
       "    }\n",
       "\n",
       "    .dataframe thead th {\n",
       "        text-align: right;\n",
       "    }\n",
       "</style>\n",
       "<table border=\"1\" class=\"dataframe\">\n",
       "  <thead>\n",
       "    <tr style=\"text-align: right;\">\n",
       "      <th></th>\n",
       "      <th>IBM</th>\n",
       "      <th>Azure</th>\n",
       "      <th>Google</th>\n",
       "      <th>AWS</th>\n",
       "    </tr>\n",
       "  </thead>\n",
       "  <tbody>\n",
       "    <tr>\n",
       "      <th>0</th>\n",
       "      <td>0.760051</td>\n",
       "      <td>0.958107</td>\n",
       "      <td>0.3</td>\n",
       "      <td>0.514261</td>\n",
       "    </tr>\n",
       "    <tr>\n",
       "      <th>1</th>\n",
       "      <td>0.908944</td>\n",
       "      <td>0.961736</td>\n",
       "      <td>0.4</td>\n",
       "      <td>0.820620</td>\n",
       "    </tr>\n",
       "    <tr>\n",
       "      <th>2</th>\n",
       "      <td>-0.675144</td>\n",
       "      <td>0.500000</td>\n",
       "      <td>0.0</td>\n",
       "      <td>0.946000</td>\n",
       "    </tr>\n",
       "    <tr>\n",
       "      <th>3</th>\n",
       "      <td>0.707989</td>\n",
       "      <td>0.500000</td>\n",
       "      <td>0.6</td>\n",
       "      <td>0.710918</td>\n",
       "    </tr>\n",
       "    <tr>\n",
       "      <th>4</th>\n",
       "      <td>0.806287</td>\n",
       "      <td>0.500000</td>\n",
       "      <td>0.3</td>\n",
       "      <td>0.572770</td>\n",
       "    </tr>\n",
       "  </tbody>\n",
       "</table>\n",
       "</div>"
      ],
      "text/plain": [
       "        IBM     Azure  Google       AWS\n",
       "0  0.760051  0.958107     0.3  0.514261\n",
       "1  0.908944  0.961736     0.4  0.820620\n",
       "2 -0.675144  0.500000     0.0  0.946000\n",
       "3  0.707989  0.500000     0.6  0.710918\n",
       "4  0.806287  0.500000     0.3  0.572770"
      ]
     },
     "execution_count": 279,
     "metadata": {},
     "output_type": "execute_result"
    }
   ],
   "source": [
    "combined_dataframe.columns = ['IBM', 'Azure', 'Google', 'AWS']\n",
    "combined_dataframe.head(5)"
   ]
  },
  {
   "cell_type": "code",
   "execution_count": 280,
   "metadata": {},
   "outputs": [],
   "source": [
    "combined_dataframe.to_csv('all_api_raw_scores.csv', index=False)"
   ]
  },
  {
   "cell_type": "code",
   "execution_count": 281,
   "metadata": {},
   "outputs": [],
   "source": [
    "def normalize(df):\n",
    "    for col in df.columns:\n",
    "        mins = df[col].min()\n",
    "        maxs = df[col].max()\n",
    "        df[col] = df[col].apply(lambda k : 2*(k - mins)/(maxs - mins) - 1)\n",
    "    return df"
   ]
  },
  {
   "cell_type": "code",
   "execution_count": 282,
   "metadata": {},
   "outputs": [
    {
     "data": {
      "text/html": [
       "<div>\n",
       "<style scoped>\n",
       "    .dataframe tbody tr th:only-of-type {\n",
       "        vertical-align: middle;\n",
       "    }\n",
       "\n",
       "    .dataframe tbody tr th {\n",
       "        vertical-align: top;\n",
       "    }\n",
       "\n",
       "    .dataframe thead th {\n",
       "        text-align: right;\n",
       "    }\n",
       "</style>\n",
       "<table border=\"1\" class=\"dataframe\">\n",
       "  <thead>\n",
       "    <tr style=\"text-align: right;\">\n",
       "      <th></th>\n",
       "      <th>IBM</th>\n",
       "      <th>Azure</th>\n",
       "      <th>Google</th>\n",
       "      <th>AWS</th>\n",
       "    </tr>\n",
       "  </thead>\n",
       "  <tbody>\n",
       "    <tr>\n",
       "      <th>0</th>\n",
       "      <td>0.748455</td>\n",
       "      <td>0.917346</td>\n",
       "      <td>0.250</td>\n",
       "      <td>-0.392441</td>\n",
       "    </tr>\n",
       "    <tr>\n",
       "      <th>1</th>\n",
       "      <td>0.904623</td>\n",
       "      <td>0.925213</td>\n",
       "      <td>0.375</td>\n",
       "      <td>0.487387</td>\n",
       "    </tr>\n",
       "    <tr>\n",
       "      <th>2</th>\n",
       "      <td>-0.756862</td>\n",
       "      <td>-0.075690</td>\n",
       "      <td>-0.125</td>\n",
       "      <td>0.847464</td>\n",
       "    </tr>\n",
       "    <tr>\n",
       "      <th>3</th>\n",
       "      <td>0.693850</td>\n",
       "      <td>-0.075690</td>\n",
       "      <td>0.625</td>\n",
       "      <td>0.172334</td>\n",
       "    </tr>\n",
       "    <tr>\n",
       "      <th>4</th>\n",
       "      <td>0.796950</td>\n",
       "      <td>-0.075690</td>\n",
       "      <td>0.250</td>\n",
       "      <td>-0.224411</td>\n",
       "    </tr>\n",
       "  </tbody>\n",
       "</table>\n",
       "</div>"
      ],
      "text/plain": [
       "        IBM     Azure  Google       AWS\n",
       "0  0.748455  0.917346   0.250 -0.392441\n",
       "1  0.904623  0.925213   0.375  0.487387\n",
       "2 -0.756862 -0.075690  -0.125  0.847464\n",
       "3  0.693850 -0.075690   0.625  0.172334\n",
       "4  0.796950 -0.075690   0.250 -0.224411"
      ]
     },
     "execution_count": 282,
     "metadata": {},
     "output_type": "execute_result"
    }
   ],
   "source": [
    "normdf = normalize(combined_dataframe)\n",
    "normdf.head(5)"
   ]
  },
  {
   "cell_type": "code",
   "execution_count": 283,
   "metadata": {},
   "outputs": [],
   "source": [
    "normdf.to_csv('all_api_normalized_scores.csv', index=False)"
   ]
  },
  {
   "cell_type": "code",
   "execution_count": 298,
   "metadata": {},
   "outputs": [],
   "source": [
    "def bucketingScores(se):\n",
    "    if se > (1/3):\n",
    "        return 'positive'\n",
    "    elif se < (-1/3):\n",
    "        return 'negative'\n",
    "    else:\n",
    "        return 'neutral'\n",
    "\n",
    "for i in normdf.columns:\n",
    "    normdf[i + '_Sentiments'] = normdf[i].apply(lambda x : bucketingScores(x))"
   ]
  },
  {
   "cell_type": "code",
   "execution_count": 303,
   "metadata": {},
   "outputs": [],
   "source": [
    "def averagingScores(se):\n",
    "    se['Average_score'] = (se['IBM'] + se['Azure'] + se['Google'] + se['AWS'])/4\n",
    "    return se\n",
    "normdf = averagingScores(normdf)\n",
    "normdf['Average_Sentiments'] = normdf.Average_score.apply(lambda x : bucketingScores(x))"
   ]
  },
  {
   "cell_type": "code",
   "execution_count": 306,
   "metadata": {},
   "outputs": [
    {
     "data": {
      "text/html": [
       "<div>\n",
       "<style scoped>\n",
       "    .dataframe tbody tr th:only-of-type {\n",
       "        vertical-align: middle;\n",
       "    }\n",
       "\n",
       "    .dataframe tbody tr th {\n",
       "        vertical-align: top;\n",
       "    }\n",
       "\n",
       "    .dataframe thead th {\n",
       "        text-align: right;\n",
       "    }\n",
       "</style>\n",
       "<table border=\"1\" class=\"dataframe\">\n",
       "  <thead>\n",
       "    <tr style=\"text-align: right;\">\n",
       "      <th></th>\n",
       "      <th>IBM</th>\n",
       "      <th>Azure</th>\n",
       "      <th>Google</th>\n",
       "      <th>AWS</th>\n",
       "      <th>IBM_Sentiments</th>\n",
       "      <th>Azure_Sentiments</th>\n",
       "      <th>Google_Sentiments</th>\n",
       "      <th>AWS_Sentiments</th>\n",
       "      <th>Average_score</th>\n",
       "      <th>Average_Sentiments</th>\n",
       "    </tr>\n",
       "  </thead>\n",
       "  <tbody>\n",
       "    <tr>\n",
       "      <th>0</th>\n",
       "      <td>0.748455</td>\n",
       "      <td>0.917346</td>\n",
       "      <td>0.250</td>\n",
       "      <td>-0.392441</td>\n",
       "      <td>positive</td>\n",
       "      <td>positive</td>\n",
       "      <td>neutral</td>\n",
       "      <td>negative</td>\n",
       "      <td>0.380840</td>\n",
       "      <td>positive</td>\n",
       "    </tr>\n",
       "    <tr>\n",
       "      <th>1</th>\n",
       "      <td>0.904623</td>\n",
       "      <td>0.925213</td>\n",
       "      <td>0.375</td>\n",
       "      <td>0.487387</td>\n",
       "      <td>positive</td>\n",
       "      <td>positive</td>\n",
       "      <td>positive</td>\n",
       "      <td>positive</td>\n",
       "      <td>0.673056</td>\n",
       "      <td>positive</td>\n",
       "    </tr>\n",
       "    <tr>\n",
       "      <th>2</th>\n",
       "      <td>-0.756862</td>\n",
       "      <td>-0.075690</td>\n",
       "      <td>-0.125</td>\n",
       "      <td>0.847464</td>\n",
       "      <td>negative</td>\n",
       "      <td>neutral</td>\n",
       "      <td>neutral</td>\n",
       "      <td>positive</td>\n",
       "      <td>-0.027522</td>\n",
       "      <td>neutral</td>\n",
       "    </tr>\n",
       "    <tr>\n",
       "      <th>3</th>\n",
       "      <td>0.693850</td>\n",
       "      <td>-0.075690</td>\n",
       "      <td>0.625</td>\n",
       "      <td>0.172334</td>\n",
       "      <td>positive</td>\n",
       "      <td>neutral</td>\n",
       "      <td>positive</td>\n",
       "      <td>neutral</td>\n",
       "      <td>0.353873</td>\n",
       "      <td>positive</td>\n",
       "    </tr>\n",
       "    <tr>\n",
       "      <th>4</th>\n",
       "      <td>0.796950</td>\n",
       "      <td>-0.075690</td>\n",
       "      <td>0.250</td>\n",
       "      <td>-0.224411</td>\n",
       "      <td>positive</td>\n",
       "      <td>neutral</td>\n",
       "      <td>neutral</td>\n",
       "      <td>neutral</td>\n",
       "      <td>0.186712</td>\n",
       "      <td>neutral</td>\n",
       "    </tr>\n",
       "  </tbody>\n",
       "</table>\n",
       "</div>"
      ],
      "text/plain": [
       "        IBM     Azure  Google       AWS IBM_Sentiments Azure_Sentiments  \\\n",
       "0  0.748455  0.917346   0.250 -0.392441       positive         positive   \n",
       "1  0.904623  0.925213   0.375  0.487387       positive         positive   \n",
       "2 -0.756862 -0.075690  -0.125  0.847464       negative          neutral   \n",
       "3  0.693850 -0.075690   0.625  0.172334       positive          neutral   \n",
       "4  0.796950 -0.075690   0.250 -0.224411       positive          neutral   \n",
       "\n",
       "  Google_Sentiments AWS_Sentiments  Average_score Average_Sentiments  \n",
       "0           neutral       negative       0.380840           positive  \n",
       "1          positive       positive       0.673056           positive  \n",
       "2           neutral       positive      -0.027522            neutral  \n",
       "3          positive        neutral       0.353873           positive  \n",
       "4           neutral        neutral       0.186712            neutral  "
      ]
     },
     "execution_count": 306,
     "metadata": {},
     "output_type": "execute_result"
    }
   ],
   "source": [
    "normdf.head(5)"
   ]
  },
  {
   "cell_type": "code",
   "execution_count": 307,
   "metadata": {},
   "outputs": [],
   "source": [
    "normdf.to_csv('average_norm_score_with_label.csv', index=False)"
   ]
  },
  {
   "cell_type": "code",
   "execution_count": 284,
   "metadata": {},
   "outputs": [],
   "source": [
    "gj = pd.read_json('google_call_earnings.json')\n",
    "nj = pd.read_json('NETFLIX_Q3_2018_EARNINGS_CALL_TRANSCRIPT_FANG.json')\n",
    "aj = pd.read_json('Amazon_Q3_2018_Earning_Call_Transcript_Sentiment_Manual.json')\n",
    "mj = pd.read_json('microsoft.json')\n",
    "fj = pd.read_json('FB_earnings_call_transcript.json')"
   ]
  },
  {
   "cell_type": "code",
   "execution_count": 285,
   "metadata": {},
   "outputs": [
    {
     "data": {
      "text/plain": [
       "(622, 2)"
      ]
     },
     "execution_count": 285,
     "metadata": {},
     "output_type": "execute_result"
    }
   ],
   "source": [
    "merged = pd.concat([gj,fj,mj,nj,aj])\n",
    "merged.reset_index(drop=True)\n",
    "merged.shape"
   ]
  },
  {
   "cell_type": "code",
   "execution_count": 9,
   "metadata": {},
   "outputs": [],
   "source": [
    "merged.to_csv('merged.csv', index=False)"
   ]
  },
  {
   "cell_type": "code",
   "execution_count": 2,
   "metadata": {},
   "outputs": [],
   "source": [
    "import csv"
   ]
  },
  {
   "cell_type": "code",
   "execution_count": 3,
   "metadata": {},
   "outputs": [],
   "source": [
    "df = pd.read_csv('average_norm_score_with_label.csv')"
   ]
  },
  {
   "cell_type": "code",
   "execution_count": 4,
   "metadata": {},
   "outputs": [
    {
     "data": {
      "text/html": [
       "<div>\n",
       "<style scoped>\n",
       "    .dataframe tbody tr th:only-of-type {\n",
       "        vertical-align: middle;\n",
       "    }\n",
       "\n",
       "    .dataframe tbody tr th {\n",
       "        vertical-align: top;\n",
       "    }\n",
       "\n",
       "    .dataframe thead th {\n",
       "        text-align: right;\n",
       "    }\n",
       "</style>\n",
       "<table border=\"1\" class=\"dataframe\">\n",
       "  <thead>\n",
       "    <tr style=\"text-align: right;\">\n",
       "      <th></th>\n",
       "      <th>IBM</th>\n",
       "      <th>Azure</th>\n",
       "      <th>Google</th>\n",
       "      <th>AWS</th>\n",
       "      <th>IBM_Sentiments</th>\n",
       "      <th>Azure_Sentiments</th>\n",
       "      <th>Google_Sentiments</th>\n",
       "      <th>AWS_Sentiments</th>\n",
       "      <th>Average_score</th>\n",
       "      <th>Average_Sentiments</th>\n",
       "    </tr>\n",
       "  </thead>\n",
       "  <tbody>\n",
       "    <tr>\n",
       "      <th>0</th>\n",
       "      <td>0.748455</td>\n",
       "      <td>0.917346</td>\n",
       "      <td>0.250</td>\n",
       "      <td>-0.392441</td>\n",
       "      <td>positive</td>\n",
       "      <td>positive</td>\n",
       "      <td>neutral</td>\n",
       "      <td>negative</td>\n",
       "      <td>0.380840</td>\n",
       "      <td>positive</td>\n",
       "    </tr>\n",
       "    <tr>\n",
       "      <th>1</th>\n",
       "      <td>0.904623</td>\n",
       "      <td>0.925213</td>\n",
       "      <td>0.375</td>\n",
       "      <td>0.487387</td>\n",
       "      <td>positive</td>\n",
       "      <td>positive</td>\n",
       "      <td>positive</td>\n",
       "      <td>positive</td>\n",
       "      <td>0.673056</td>\n",
       "      <td>positive</td>\n",
       "    </tr>\n",
       "    <tr>\n",
       "      <th>2</th>\n",
       "      <td>-0.756862</td>\n",
       "      <td>-0.075690</td>\n",
       "      <td>-0.125</td>\n",
       "      <td>0.847464</td>\n",
       "      <td>negative</td>\n",
       "      <td>neutral</td>\n",
       "      <td>neutral</td>\n",
       "      <td>positive</td>\n",
       "      <td>-0.027522</td>\n",
       "      <td>neutral</td>\n",
       "    </tr>\n",
       "    <tr>\n",
       "      <th>3</th>\n",
       "      <td>0.693850</td>\n",
       "      <td>-0.075690</td>\n",
       "      <td>0.625</td>\n",
       "      <td>0.172334</td>\n",
       "      <td>positive</td>\n",
       "      <td>neutral</td>\n",
       "      <td>positive</td>\n",
       "      <td>neutral</td>\n",
       "      <td>0.353873</td>\n",
       "      <td>positive</td>\n",
       "    </tr>\n",
       "    <tr>\n",
       "      <th>4</th>\n",
       "      <td>0.796950</td>\n",
       "      <td>-0.075690</td>\n",
       "      <td>0.250</td>\n",
       "      <td>-0.224411</td>\n",
       "      <td>positive</td>\n",
       "      <td>neutral</td>\n",
       "      <td>neutral</td>\n",
       "      <td>neutral</td>\n",
       "      <td>0.186712</td>\n",
       "      <td>neutral</td>\n",
       "    </tr>\n",
       "  </tbody>\n",
       "</table>\n",
       "</div>"
      ],
      "text/plain": [
       "        IBM     Azure  Google       AWS IBM_Sentiments Azure_Sentiments  \\\n",
       "0  0.748455  0.917346   0.250 -0.392441       positive         positive   \n",
       "1  0.904623  0.925213   0.375  0.487387       positive         positive   \n",
       "2 -0.756862 -0.075690  -0.125  0.847464       negative          neutral   \n",
       "3  0.693850 -0.075690   0.625  0.172334       positive          neutral   \n",
       "4  0.796950 -0.075690   0.250 -0.224411       positive          neutral   \n",
       "\n",
       "  Google_Sentiments AWS_Sentiments  Average_score Average_Sentiments  \n",
       "0           neutral       negative       0.380840           positive  \n",
       "1          positive       positive       0.673056           positive  \n",
       "2           neutral       positive      -0.027522            neutral  \n",
       "3          positive        neutral       0.353873           positive  \n",
       "4           neutral        neutral       0.186712            neutral  "
      ]
     },
     "execution_count": 4,
     "metadata": {},
     "output_type": "execute_result"
    }
   ],
   "source": [
    "df.head(5)"
   ]
  },
  {
   "cell_type": "code",
   "execution_count": 5,
   "metadata": {},
   "outputs": [],
   "source": [
    "manual = pd.read_csv('merged.csv')"
   ]
  },
  {
   "cell_type": "code",
   "execution_count": 6,
   "metadata": {},
   "outputs": [
    {
     "data": {
      "text/html": [
       "<div>\n",
       "<style scoped>\n",
       "    .dataframe tbody tr th:only-of-type {\n",
       "        vertical-align: middle;\n",
       "    }\n",
       "\n",
       "    .dataframe tbody tr th {\n",
       "        vertical-align: top;\n",
       "    }\n",
       "\n",
       "    .dataframe thead th {\n",
       "        text-align: right;\n",
       "    }\n",
       "</style>\n",
       "<table border=\"1\" class=\"dataframe\">\n",
       "  <thead>\n",
       "    <tr style=\"text-align: right;\">\n",
       "      <th></th>\n",
       "      <th>text</th>\n",
       "      <th>sentiment</th>\n",
       "    </tr>\n",
       "  </thead>\n",
       "  <tbody>\n",
       "    <tr>\n",
       "      <th>0</th>\n",
       "      <td>Good day ladies and gentlemen, and welcome to ...</td>\n",
       "      <td>neutral</td>\n",
       "    </tr>\n",
       "    <tr>\n",
       "      <th>1</th>\n",
       "      <td>Thank you. Good afternoon everyone and welcome...</td>\n",
       "      <td>neutral</td>\n",
       "    </tr>\n",
       "    <tr>\n",
       "      <th>2</th>\n",
       "      <td>G&amp;A expense trends in the third quarter were a...</td>\n",
       "      <td>neutral</td>\n",
       "    </tr>\n",
       "    <tr>\n",
       "      <th>3</th>\n",
       "      <td>To give you a bit of a breakdown, the largest ...</td>\n",
       "      <td>positive</td>\n",
       "    </tr>\n",
       "    <tr>\n",
       "      <th>4</th>\n",
       "      <td>That being said, we do remain very focused on ...</td>\n",
       "      <td>neutral</td>\n",
       "    </tr>\n",
       "  </tbody>\n",
       "</table>\n",
       "</div>"
      ],
      "text/plain": [
       "                                                text sentiment\n",
       "0  Good day ladies and gentlemen, and welcome to ...   neutral\n",
       "1  Thank you. Good afternoon everyone and welcome...   neutral\n",
       "2  G&A expense trends in the third quarter were a...   neutral\n",
       "3  To give you a bit of a breakdown, the largest ...  positive\n",
       "4  That being said, we do remain very focused on ...   neutral"
      ]
     },
     "execution_count": 6,
     "metadata": {},
     "output_type": "execute_result"
    }
   ],
   "source": [
    "manual.head(5)"
   ]
  },
  {
   "cell_type": "code",
   "execution_count": 7,
   "metadata": {},
   "outputs": [],
   "source": [
    "y_actual = manual['sentiment']"
   ]
  },
  {
   "cell_type": "code",
   "execution_count": 8,
   "metadata": {},
   "outputs": [],
   "source": [
    "y_pred = df['Average_Sentiments']"
   ]
  },
  {
   "cell_type": "code",
   "execution_count": 9,
   "metadata": {},
   "outputs": [],
   "source": [
    "from sklearn.metrics import confusion_matrix, accuracy_score"
   ]
  },
  {
   "cell_type": "code",
   "execution_count": 10,
   "metadata": {},
   "outputs": [],
   "source": [
    "import matplotlib.pyplot as plt\n",
    "import seaborn as sns\n",
    "%matplotlib inline"
   ]
  },
  {
   "cell_type": "code",
   "execution_count": 13,
   "metadata": {},
   "outputs": [
    {
     "data": {
      "image/png": "[encoded data removed]",
      "text/plain": [
       "<Figure size 720x576 with 2 Axes>"
      ]
     },
     "metadata": {},
     "output_type": "display_data"
    }
   ],
   "source": [
    "conf_matrix = confusion_matrix(y_actual, y_pred)\n",
    "plt.figure(figsize=(10, 8))\n",
    "sns.heatmap(conf_matrix, annot=True, fmt=\"d\", cmap='PuBu')\n",
    "plt.title(\"Confusion matrix\")\n",
    "plt.ylabel('Actual class')\n",
    "plt.xlabel('Predicted class')\n",
    "plt.show()"
   ]
  },
  {
   "cell_type": "code",
   "execution_count": 12,
   "metadata": {},
   "outputs": [
    {
     "name": "stdout",
     "output_type": "stream",
     "text": [
      "0.5321543408360129\n"
     ]
    }
   ],
   "source": [
    "accuracy = accuracy_score(y_actual, y_pred)\n",
    "print(accuracy)"
   ]
  },
  {
   "cell_type": "code",
   "execution_count": null,
   "metadata": {},
   "outputs": [],
   "source": []
  }
 ],
 "metadata": {
  "kernelspec": {
   "display_name": "Python 3",
   "language": "python",
   "name": "python3"
  },
  "language_info": {
   "codemirror_mode": {
    "name": "ipython",
    "version": 3
   },
   "file_extension": ".py",
   "mimetype": "text/x-python",
   "name": "python",
   "nbconvert_exporter": "python",
   "pygments_lexer": "ipython3",
   "version": "3.6.5"
  }
 },
 "nbformat": 4,
 "nbformat_minor": 2
}
