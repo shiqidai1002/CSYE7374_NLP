{
 "cells": [
  {
   "cell_type": "code",
   "execution_count": 22,
   "metadata": {},
   "outputs": [],
   "source": [
    "import autosklearn.classification\n",
    "import csv\n",
    "import pandas as pd\n",
    "from sklearn.model_selection import train_test_split\n",
    "import autosklearn.metrics\n",
    "from sklearn.metrics import accuracy_score,confusion_matrix\n",
    "from sklearn.metrics import confusion_matrix"
   ]
  },
  {
   "cell_type": "code",
   "execution_count": 2,
   "metadata": {},
   "outputs": [],
   "source": [
    "df = pd.read_csv(\"data_for_automl.csv\")"
   ]
  },
  {
   "cell_type": "code",
   "execution_count": 3,
   "metadata": {},
   "outputs": [],
   "source": [
    "df['sentiment'] = df['sentiment'].map({'positive': 1, 'neutral': 0, 'negative': -1})"
   ]
  },
  {
   "cell_type": "code",
   "execution_count": 4,
   "metadata": {},
   "outputs": [],
   "source": [
    "X= df.drop(['sentiment'], axis=1)\n",
    "y= df['sentiment']"
   ]
  },
  {
   "cell_type": "code",
   "execution_count": 5,
   "metadata": {},
   "outputs": [
    {
     "data": {
      "text/html": [
       "<div>\n",
       "<style>\n",
       "    .dataframe thead tr:only-child th {\n",
       "        text-align: right;\n",
       "    }\n",
       "\n",
       "    .dataframe thead th {\n",
       "        text-align: left;\n",
       "    }\n",
       "\n",
       "    .dataframe tbody tr th {\n",
       "        vertical-align: top;\n",
       "    }\n",
       "</style>\n",
       "<table border=\"1\" class=\"dataframe\">\n",
       "  <thead>\n",
       "    <tr style=\"text-align: right;\">\n",
       "      <th></th>\n",
       "      <th>IBM</th>\n",
       "      <th>Azure</th>\n",
       "      <th>Google</th>\n",
       "      <th>AWS</th>\n",
       "      <th>sentiment</th>\n",
       "    </tr>\n",
       "  </thead>\n",
       "  <tbody>\n",
       "    <tr>\n",
       "      <th>0</th>\n",
       "      <td>0.760051</td>\n",
       "      <td>0.958107</td>\n",
       "      <td>0.3</td>\n",
       "      <td>0.514261</td>\n",
       "      <td>0</td>\n",
       "    </tr>\n",
       "    <tr>\n",
       "      <th>1</th>\n",
       "      <td>0.908944</td>\n",
       "      <td>0.961736</td>\n",
       "      <td>0.4</td>\n",
       "      <td>0.820620</td>\n",
       "      <td>0</td>\n",
       "    </tr>\n",
       "    <tr>\n",
       "      <th>2</th>\n",
       "      <td>-0.675144</td>\n",
       "      <td>0.500000</td>\n",
       "      <td>0.0</td>\n",
       "      <td>0.946000</td>\n",
       "      <td>0</td>\n",
       "    </tr>\n",
       "    <tr>\n",
       "      <th>3</th>\n",
       "      <td>0.707989</td>\n",
       "      <td>0.500000</td>\n",
       "      <td>0.6</td>\n",
       "      <td>0.710918</td>\n",
       "      <td>1</td>\n",
       "    </tr>\n",
       "    <tr>\n",
       "      <th>4</th>\n",
       "      <td>0.806287</td>\n",
       "      <td>0.500000</td>\n",
       "      <td>0.3</td>\n",
       "      <td>0.572770</td>\n",
       "      <td>0</td>\n",
       "    </tr>\n",
       "  </tbody>\n",
       "</table>\n",
       "</div>"
      ],
      "text/plain": [
       "        IBM     Azure  Google       AWS  sentiment\n",
       "0  0.760051  0.958107     0.3  0.514261          0\n",
       "1  0.908944  0.961736     0.4  0.820620          0\n",
       "2 -0.675144  0.500000     0.0  0.946000          0\n",
       "3  0.707989  0.500000     0.6  0.710918          1\n",
       "4  0.806287  0.500000     0.3  0.572770          0"
      ]
     },
     "execution_count": 5,
     "metadata": {},
     "output_type": "execute_result"
    }
   ],
   "source": [
    "df.head(5)"
   ]
  },
  {
   "cell_type": "code",
   "execution_count": 6,
   "metadata": {},
   "outputs": [],
   "source": [
    "\n",
    "X_train,X_test,y_train,y_test = train_test_split(X,y,test_size=0.2)\n"
   ]
  },
  {
   "cell_type": "code",
   "execution_count": 7,
   "metadata": {},
   "outputs": [],
   "source": [
    "cls = autosklearn.classification.AutoSklearnClassifier()"
   ]
  },
  {
   "cell_type": "code",
   "execution_count": 8,
   "metadata": {},
   "outputs": [
    {
     "name": "stderr",
     "output_type": "stream",
     "text": [
      "You are already timing task: index_run2\n",
      "You are already timing task: index_run4\n",
      "You are already timing task: index_run4\n",
      "You are already timing task: index_run4\n",
      "You are already timing task: index_run4\n",
      "You are already timing task: index_run4\n",
      "You are already timing task: index_run4\n"
     ]
    },
    {
     "name": "stdout",
     "output_type": "stream",
     "text": [
      "[WARNING] [2018-11-30 08:17:42,237:smac.intensification.intensification.Intensifier] Challenger was the same as the current incumbent; Skipping challenger\n",
      "[WARNING] [2018-11-30 08:17:42,237:smac.intensification.intensification.Intensifier] Challenger was the same as the current incumbent; Skipping challenger\n"
     ]
    },
    {
     "name": "stderr",
     "output_type": "stream",
     "text": [
      "You are already timing task: index_run4\n",
      "You are already timing task: index_run5\n"
     ]
    },
    {
     "name": "stdout",
     "output_type": "stream",
     "text": [
      "[WARNING] [2018-11-30 08:18:22,101:smac.intensification.intensification.Intensifier] Challenger was the same as the current incumbent; Skipping challenger\n",
      "[WARNING] [2018-11-30 08:18:22,101:smac.intensification.intensification.Intensifier] Challenger was the same as the current incumbent; Skipping challenger\n"
     ]
    },
    {
     "name": "stderr",
     "output_type": "stream",
     "text": [
      "You are already timing task: index_run5\n",
      "You are already timing task: index_run5\n",
      "You are already timing task: index_run5\n",
      "You are already timing task: index_run5\n",
      "You are already timing task: index_run5\n",
      "You are already timing task: index_run6\n",
      "You are already timing task: index_run6\n",
      "You are already timing task: index_run6\n",
      "You are already timing task: index_run6\n",
      "You are already timing task: index_run6\n",
      "You are already timing task: index_run6\n",
      "You are already timing task: index_run8\n",
      "You are already timing task: index_run10\n",
      "You are already timing task: index_run11\n",
      "You are already timing task: index_run13\n",
      "You are already timing task: index_run13\n",
      "You are already timing task: index_run13\n",
      "You are already timing task: index_run13\n",
      "You are already timing task: index_run14\n",
      "You are already timing task: index_run14\n",
      "You are already timing task: index_run14\n",
      "You are already timing task: index_run15\n",
      "You are already timing task: index_run15\n",
      "You are already timing task: index_run15\n",
      "You are already timing task: index_run15\n",
      "You are already timing task: index_run17\n",
      "You are already timing task: index_run17\n"
     ]
    },
    {
     "name": "stdout",
     "output_type": "stream",
     "text": [
      "[WARNING] [2018-11-30 08:20:07,331:smac.intensification.intensification.Intensifier] Challenger was the same as the current incumbent; Skipping challenger\n",
      "[WARNING] [2018-11-30 08:20:07,331:smac.intensification.intensification.Intensifier] Challenger was the same as the current incumbent; Skipping challenger\n"
     ]
    },
    {
     "name": "stderr",
     "output_type": "stream",
     "text": [
      "You are already timing task: index_run19\n"
     ]
    },
    {
     "name": "stdout",
     "output_type": "stream",
     "text": [
      "[WARNING] [2018-11-30 08:20:13,173:smac.intensification.intensification.Intensifier] Challenger was the same as the current incumbent; Skipping challenger\n",
      "[WARNING] [2018-11-30 08:20:13,173:smac.intensification.intensification.Intensifier] Challenger was the same as the current incumbent; Skipping challenger\n"
     ]
    },
    {
     "name": "stderr",
     "output_type": "stream",
     "text": [
      "You are already timing task: index_run20\n"
     ]
    },
    {
     "name": "stdout",
     "output_type": "stream",
     "text": [
      "[WARNING] [2018-11-30 08:20:19,320:smac.intensification.intensification.Intensifier] Challenger was the same as the current incumbent; Skipping challenger\n",
      "[WARNING] [2018-11-30 08:20:19,320:smac.intensification.intensification.Intensifier] Challenger was the same as the current incumbent; Skipping challenger\n"
     ]
    },
    {
     "name": "stderr",
     "output_type": "stream",
     "text": [
      "You are already timing task: index_run21\n"
     ]
    },
    {
     "name": "stdout",
     "output_type": "stream",
     "text": [
      "[WARNING] [2018-11-30 08:20:25,506:smac.intensification.intensification.Intensifier] Challenger was the same as the current incumbent; Skipping challenger\n",
      "[WARNING] [2018-11-30 08:20:25,506:smac.intensification.intensification.Intensifier] Challenger was the same as the current incumbent; Skipping challenger\n"
     ]
    },
    {
     "name": "stderr",
     "output_type": "stream",
     "text": [
      "You are already timing task: index_run22\n",
      "You are already timing task: index_run22\n"
     ]
    },
    {
     "name": "stdout",
     "output_type": "stream",
     "text": [
      "[WARNING] [2018-11-30 08:20:31,298:smac.intensification.intensification.Intensifier] Challenger was the same as the current incumbent; Skipping challenger\n",
      "[WARNING] [2018-11-30 08:20:31,298:smac.intensification.intensification.Intensifier] Challenger was the same as the current incumbent; Skipping challenger\n"
     ]
    },
    {
     "name": "stderr",
     "output_type": "stream",
     "text": [
      "You are already timing task: index_run23\n",
      "You are already timing task: index_run24\n",
      "You are already timing task: index_run25\n",
      "You are already timing task: index_run25\n",
      "You are already timing task: index_run25\n",
      "You are already timing task: index_run25\n",
      "You are already timing task: index_run27\n",
      "You are already timing task: index_run27\n",
      "You are already timing task: index_run27\n",
      "You are already timing task: index_run27\n",
      "You are already timing task: index_run27\n",
      "You are already timing task: index_run27\n",
      "You are already timing task: index_run27\n",
      "You are already timing task: index_run27\n",
      "You are already timing task: index_run27\n",
      "You are already timing task: index_run28\n"
     ]
    },
    {
     "name": "stdout",
     "output_type": "stream",
     "text": [
      "[WARNING] [2018-11-30 08:21:41,434:smac.intensification.intensification.Intensifier] Challenger was the same as the current incumbent; Skipping challenger\n",
      "[WARNING] [2018-11-30 08:21:41,434:smac.intensification.intensification.Intensifier] Challenger was the same as the current incumbent; Skipping challenger\n"
     ]
    },
    {
     "name": "stderr",
     "output_type": "stream",
     "text": [
      "You are already timing task: index_run28\n",
      "You are already timing task: index_run28\n",
      "You are already timing task: index_run28\n",
      "You are already timing task: index_run28\n",
      "You are already timing task: index_run28\n",
      "You are already timing task: index_run28\n",
      "You are already timing task: index_run30\n",
      "You are already timing task: index_run30\n",
      "You are already timing task: index_run30\n",
      "You are already timing task: index_run30\n",
      "You are already timing task: index_run30\n"
     ]
    },
    {
     "name": "stdout",
     "output_type": "stream",
     "text": [
      "[WARNING] [2018-11-30 08:22:19,116:smac.intensification.intensification.Intensifier] Challenger was the same as the current incumbent; Skipping challenger\n",
      "[WARNING] [2018-11-30 08:22:19,116:smac.intensification.intensification.Intensifier] Challenger was the same as the current incumbent; Skipping challenger\n"
     ]
    },
    {
     "name": "stderr",
     "output_type": "stream",
     "text": [
      "You are already timing task: index_run30\n",
      "You are already timing task: index_run30\n",
      "You are already timing task: index_run31\n",
      "You are already timing task: index_run31\n",
      "You are already timing task: index_run31\n",
      "You are already timing task: index_run31\n",
      "You are already timing task: index_run31\n",
      "You are already timing task: index_run31\n",
      "You are already timing task: index_run31\n",
      "You are already timing task: index_run31\n",
      "You are already timing task: index_run31\n",
      "You are already timing task: index_run31\n",
      "You are already timing task: index_run31\n",
      "You are already timing task: index_run31\n",
      "You are already timing task: index_run31\n"
     ]
    },
    {
     "name": "stdout",
     "output_type": "stream",
     "text": [
      "[WARNING] [2018-11-30 08:23:03,971:smac.intensification.intensification.Intensifier] Challenger was the same as the current incumbent; Skipping challenger\n",
      "[WARNING] [2018-11-30 08:23:03,971:smac.intensification.intensification.Intensifier] Challenger was the same as the current incumbent; Skipping challenger\n"
     ]
    },
    {
     "name": "stderr",
     "output_type": "stream",
     "text": [
      "You are already timing task: index_run31\n",
      "You are already timing task: index_run31\n",
      "You are already timing task: index_run31\n",
      "You are already timing task: index_run31\n",
      "You are already timing task: index_run31\n",
      "You are already timing task: index_run31\n",
      "You are already timing task: index_run31\n",
      "You are already timing task: index_run31\n",
      "You are already timing task: index_run31\n",
      "You are already timing task: index_run31\n",
      "You are already timing task: index_run31\n",
      "You are already timing task: index_run31\n",
      "You are already timing task: index_run31\n",
      "You are already timing task: index_run31\n",
      "You are already timing task: index_run31\n",
      "You are already timing task: index_run31\n",
      "You are already timing task: index_run31\n",
      "You are already timing task: index_run31\n",
      "You are already timing task: index_run31\n",
      "You are already timing task: index_run31\n",
      "You are already timing task: index_run31\n",
      "You are already timing task: index_run31\n",
      "You are already timing task: index_run31\n",
      "You are already timing task: index_run31\n",
      "You are already timing task: index_run31\n",
      "You are already timing task: index_run31\n",
      "You are already timing task: index_run31\n",
      "You are already timing task: index_run31\n",
      "You are already timing task: index_run31\n",
      "You are already timing task: index_run31\n",
      "You are already timing task: index_run31\n",
      "You are already timing task: index_run31\n",
      "You are already timing task: index_run31\n",
      "You are already timing task: index_run31\n",
      "You are already timing task: index_run31\n",
      "You are already timing task: index_run31\n",
      "You are already timing task: index_run31\n",
      "You are already timing task: index_run31\n",
      "You are already timing task: index_run31\n",
      "You are already timing task: index_run31\n"
     ]
    },
    {
     "name": "stdout",
     "output_type": "stream",
     "text": [
      "[WARNING] [2018-11-30 08:25:14,580:smac.intensification.intensification.Intensifier] Challenger was the same as the current incumbent; Skipping challenger\n",
      "[WARNING] [2018-11-30 08:25:14,580:smac.intensification.intensification.Intensifier] Challenger was the same as the current incumbent; Skipping challenger\n"
     ]
    },
    {
     "name": "stderr",
     "output_type": "stream",
     "text": [
      "You are already timing task: index_run31\n",
      "You are already timing task: index_run31\n",
      "You are already timing task: index_run31\n",
      "You are already timing task: index_run31\n",
      "You are already timing task: index_run31\n",
      "You are already timing task: index_run31\n",
      "You are already timing task: index_run31\n",
      "You are already timing task: index_run31\n",
      "You are already timing task: index_run31\n",
      "You are already timing task: index_run31\n"
     ]
    },
    {
     "name": "stdout",
     "output_type": "stream",
     "text": [
      "[WARNING] [2018-11-30 08:25:46,598:smac.intensification.intensification.Intensifier] Challenger was the same as the current incumbent; Skipping challenger\n",
      "[WARNING] [2018-11-30 08:25:46,598:smac.intensification.intensification.Intensifier] Challenger was the same as the current incumbent; Skipping challenger\n"
     ]
    },
    {
     "name": "stderr",
     "output_type": "stream",
     "text": [
      "You are already timing task: index_run31\n",
      "You are already timing task: index_run31\n",
      "You are already timing task: index_run31\n",
      "You are already timing task: index_run31\n",
      "You are already timing task: index_run31\n",
      "You are already timing task: index_run31\n",
      "You are already timing task: index_run31\n",
      "You are already timing task: index_run31\n",
      "You are already timing task: index_run31\n",
      "You are already timing task: index_run31\n",
      "You are already timing task: index_run31\n",
      "You are already timing task: index_run31\n",
      "You are already timing task: index_run31\n",
      "You are already timing task: index_run31\n",
      "You are already timing task: index_run31\n",
      "You are already timing task: index_run31\n",
      "You are already timing task: index_run31\n",
      "You are already timing task: index_run31\n",
      "You are already timing task: index_run31\n",
      "You are already timing task: index_run31\n",
      "You are already timing task: index_run31\n",
      "You are already timing task: index_run31\n",
      "You are already timing task: index_run31\n",
      "You are already timing task: index_run31\n",
      "You are already timing task: index_run31\n",
      "You are already timing task: index_run31\n",
      "You are already timing task: index_run31\n",
      "You are already timing task: index_run31\n",
      "You are already timing task: index_run31\n",
      "You are already timing task: index_run31\n",
      "You are already timing task: index_run31\n",
      "You are already timing task: index_run31\n",
      "You are already timing task: index_run31\n",
      "You are already timing task: index_run31\n",
      "You are already timing task: index_run31\n",
      "You are already timing task: index_run31\n",
      "You are already timing task: index_run31\n",
      "You are already timing task: index_run31\n",
      "You are already timing task: index_run32\n",
      "You are already timing task: index_run32\n",
      "You are already timing task: index_run32\n",
      "You are already timing task: index_run32\n"
     ]
    },
    {
     "name": "stdout",
     "output_type": "stream",
     "text": [
      "[WARNING] [2018-11-30 08:28:14,435:smac.intensification.intensification.Intensifier] Challenger was the same as the current incumbent; Skipping challenger\n",
      "[WARNING] [2018-11-30 08:28:14,435:smac.intensification.intensification.Intensifier] Challenger was the same as the current incumbent; Skipping challenger\n"
     ]
    },
    {
     "name": "stderr",
     "output_type": "stream",
     "text": [
      "You are already timing task: index_run32\n",
      "You are already timing task: index_run32\n",
      "You are already timing task: index_run32\n",
      "You are already timing task: index_run32\n",
      "You are already timing task: index_run32\n",
      "You are already timing task: index_run32\n",
      "You are already timing task: index_run32\n",
      "You are already timing task: index_run32\n",
      "You are already timing task: index_run32\n",
      "You are already timing task: index_run32\n",
      "You are already timing task: index_run32\n",
      "You are already timing task: index_run32\n",
      "You are already timing task: index_run32\n",
      "You are already timing task: index_run32\n",
      "You are already timing task: index_run32\n",
      "You are already timing task: index_run32\n"
     ]
    },
    {
     "name": "stdout",
     "output_type": "stream",
     "text": [
      "[WARNING] [2018-11-30 08:29:02,327:smac.intensification.intensification.Intensifier] Challenger was the same as the current incumbent; Skipping challenger\n",
      "[WARNING] [2018-11-30 08:29:02,327:smac.intensification.intensification.Intensifier] Challenger was the same as the current incumbent; Skipping challenger\n"
     ]
    },
    {
     "name": "stderr",
     "output_type": "stream",
     "text": [
      "You are already timing task: index_run32\n",
      "You are already timing task: index_run32\n",
      "You are already timing task: index_run32\n",
      "You are already timing task: index_run32\n",
      "You are already timing task: index_run32\n",
      "You are already timing task: index_run32\n",
      "You are already timing task: index_run32\n",
      "You are already timing task: index_run32\n",
      "You are already timing task: index_run32\n",
      "You are already timing task: index_run32\n",
      "You are already timing task: index_run32\n",
      "You are already timing task: index_run32\n",
      "You are already timing task: index_run32\n",
      "You are already timing task: index_run32\n",
      "You are already timing task: index_run33\n",
      "You are already timing task: index_run33\n",
      "You are already timing task: index_run33\n",
      "You are already timing task: index_run33\n",
      "You are already timing task: index_run33\n",
      "You are already timing task: index_run33\n",
      "You are already timing task: index_run33\n",
      "You are already timing task: index_run33\n",
      "You are already timing task: index_run33\n",
      "You are already timing task: index_run33\n",
      "You are already timing task: index_run33\n",
      "You are already timing task: index_run33\n",
      "You are already timing task: index_run33\n",
      "You are already timing task: index_run33\n",
      "You are already timing task: index_run33\n",
      "You are already timing task: index_run33\n",
      "You are already timing task: index_run33\n",
      "You are already timing task: index_run33\n",
      "You are already timing task: index_run33\n",
      "You are already timing task: index_run33\n",
      "You are already timing task: index_run33\n",
      "You are already timing task: index_run33\n",
      "You are already timing task: index_run33\n",
      "You are already timing task: index_run33\n",
      "You are already timing task: index_run33\n",
      "You are already timing task: index_run33\n",
      "You are already timing task: index_run33\n",
      "You are already timing task: index_run33\n",
      "You are already timing task: index_run33\n",
      "You are already timing task: index_run33\n",
      "You are already timing task: index_run33\n",
      "You are already timing task: index_run33\n",
      "You are already timing task: index_run33\n",
      "You are already timing task: index_run33\n",
      "You are already timing task: index_run33\n",
      "You are already timing task: index_run33\n",
      "You are already timing task: index_run33\n",
      "You are already timing task: index_run33\n",
      "You are already timing task: index_run33\n",
      "You are already timing task: index_run33\n",
      "You are already timing task: index_run33\n",
      "You are already timing task: index_run33\n",
      "You are already timing task: index_run33\n",
      "You are already timing task: index_run33\n",
      "You are already timing task: index_run33\n",
      "You are already timing task: index_run33\n"
     ]
    },
    {
     "name": "stdout",
     "output_type": "stream",
     "text": [
      "[WARNING] [2018-11-30 08:32:08,753:smac.intensification.intensification.Intensifier] Challenger was the same as the current incumbent; Skipping challenger\n",
      "[WARNING] [2018-11-30 08:32:08,753:smac.intensification.intensification.Intensifier] Challenger was the same as the current incumbent; Skipping challenger\n"
     ]
    },
    {
     "name": "stderr",
     "output_type": "stream",
     "text": [
      "You are already timing task: index_run33\n",
      "You are already timing task: index_run33\n",
      "You are already timing task: index_run33\n",
      "You are already timing task: index_run33\n",
      "You are already timing task: index_run33\n",
      "You are already timing task: index_run33\n",
      "You are already timing task: index_run33\n",
      "You are already timing task: index_run33\n",
      "You are already timing task: index_run33\n",
      "You are already timing task: index_run33\n",
      "You are already timing task: index_run33\n",
      "You are already timing task: index_run33\n",
      "You are already timing task: index_run33\n",
      "You are already timing task: index_run33\n",
      "You are already timing task: index_run33\n",
      "You are already timing task: index_run33\n",
      "You are already timing task: index_run33\n",
      "You are already timing task: index_run33\n",
      "You are already timing task: index_run33\n",
      "You are already timing task: index_run33\n",
      "You are already timing task: index_run33\n"
     ]
    },
    {
     "name": "stdout",
     "output_type": "stream",
     "text": [
      "[WARNING] [2018-11-30 08:33:19,438:smac.intensification.intensification.Intensifier] Challenger was the same as the current incumbent; Skipping challenger\n",
      "[WARNING] [2018-11-30 08:33:19,438:smac.intensification.intensification.Intensifier] Challenger was the same as the current incumbent; Skipping challenger\n"
     ]
    },
    {
     "name": "stderr",
     "output_type": "stream",
     "text": [
      "You are already timing task: index_run33\n",
      "You are already timing task: index_run33\n",
      "You are already timing task: index_run33\n",
      "You are already timing task: index_run33\n"
     ]
    },
    {
     "name": "stdout",
     "output_type": "stream",
     "text": [
      "[WARNING] [2018-11-30 08:33:47,687:smac.intensification.intensification.Intensifier] Challenger was the same as the current incumbent; Skipping challenger\n",
      "[WARNING] [2018-11-30 08:33:47,687:smac.intensification.intensification.Intensifier] Challenger was the same as the current incumbent; Skipping challenger\n"
     ]
    },
    {
     "name": "stderr",
     "output_type": "stream",
     "text": [
      "You are already timing task: index_run33\n"
     ]
    },
    {
     "name": "stdout",
     "output_type": "stream",
     "text": [
      "[WARNING] [2018-11-30 08:33:55,661:smac.intensification.intensification.Intensifier] Challenger was the same as the current incumbent; Skipping challenger\n",
      "[WARNING] [2018-11-30 08:33:55,661:smac.intensification.intensification.Intensifier] Challenger was the same as the current incumbent; Skipping challenger\n"
     ]
    },
    {
     "name": "stderr",
     "output_type": "stream",
     "text": [
      "You are already timing task: index_run33\n",
      "You are already timing task: index_run33\n",
      "You are already timing task: index_run33\n",
      "You are already timing task: index_run33\n",
      "You are already timing task: index_run33\n",
      "You are already timing task: index_run33\n",
      "You are already timing task: index_run33\n",
      "You are already timing task: index_run33\n",
      "You are already timing task: index_run33\n",
      "You are already timing task: index_run33\n",
      "You are already timing task: index_run33\n",
      "You are already timing task: index_run33\n",
      "You are already timing task: index_run33\n",
      "You are already timing task: index_run33\n",
      "You are already timing task: index_run34\n",
      "You are already timing task: index_run34\n",
      "You are already timing task: index_run34\n",
      "You are already timing task: index_run34\n",
      "You are already timing task: index_run34\n",
      "You are already timing task: index_run34\n"
     ]
    },
    {
     "name": "stdout",
     "output_type": "stream",
     "text": [
      "[WARNING] [2018-11-30 08:35:01,016:smac.intensification.intensification.Intensifier] Challenger was the same as the current incumbent; Skipping challenger\n",
      "[WARNING] [2018-11-30 08:35:01,016:smac.intensification.intensification.Intensifier] Challenger was the same as the current incumbent; Skipping challenger\n"
     ]
    },
    {
     "name": "stderr",
     "output_type": "stream",
     "text": [
      "You are already timing task: index_run34\n",
      "You are already timing task: index_run34\n",
      "You are already timing task: index_run34\n",
      "You are already timing task: index_run34\n",
      "You are already timing task: index_run34\n",
      "You are already timing task: index_run34\n",
      "You are already timing task: index_run34\n",
      "You are already timing task: index_run34\n",
      "You are already timing task: index_run34\n",
      "You are already timing task: index_run34\n",
      "You are already timing task: index_run34\n",
      "You are already timing task: index_run34\n",
      "You are already timing task: index_run34\n",
      "You are already timing task: index_run34\n",
      "You are already timing task: index_run34\n",
      "You are already timing task: index_run34\n",
      "You are already timing task: index_run34\n",
      "You are already timing task: index_run34\n",
      "You are already timing task: index_run34\n"
     ]
    },
    {
     "name": "stdout",
     "output_type": "stream",
     "text": [
      "[WARNING] [2018-11-30 08:36:51,483:smac.intensification.intensification.Intensifier] Challenger was the same as the current incumbent; Skipping challenger\n",
      "[WARNING] [2018-11-30 08:36:51,483:smac.intensification.intensification.Intensifier] Challenger was the same as the current incumbent; Skipping challenger\n"
     ]
    },
    {
     "name": "stderr",
     "output_type": "stream",
     "text": [
      "You are already timing task: index_run34\n",
      "You are already timing task: index_run34\n",
      "You are already timing task: index_run34\n"
     ]
    },
    {
     "name": "stdout",
     "output_type": "stream",
     "text": [
      "[WARNING] [2018-11-30 08:36:59,821:smac.intensification.intensification.Intensifier] Challenger was the same as the current incumbent; Skipping challenger\n",
      "[WARNING] [2018-11-30 08:36:59,821:smac.intensification.intensification.Intensifier] Challenger was the same as the current incumbent; Skipping challenger\n"
     ]
    },
    {
     "name": "stderr",
     "output_type": "stream",
     "text": [
      "You are already timing task: index_run34\n",
      "You are already timing task: index_run34\n",
      "You are already timing task: index_run34\n",
      "You are already timing task: index_run34\n",
      "You are already timing task: index_run34\n",
      "You are already timing task: index_run34\n",
      "You are already timing task: index_run34\n",
      "You are already timing task: index_run34\n",
      "You are already timing task: index_run34\n",
      "You are already timing task: index_run34\n",
      "You are already timing task: index_run34\n",
      "You are already timing task: index_run34\n",
      "You are already timing task: index_run34\n",
      "You are already timing task: index_run34\n",
      "You are already timing task: index_run34\n",
      "You are already timing task: index_run34\n"
     ]
    },
    {
     "name": "stdout",
     "output_type": "stream",
     "text": [
      "[WARNING] [2018-11-30 08:38:03,363:smac.intensification.intensification.Intensifier] Challenger was the same as the current incumbent; Skipping challenger\n",
      "[WARNING] [2018-11-30 08:38:03,363:smac.intensification.intensification.Intensifier] Challenger was the same as the current incumbent; Skipping challenger\n"
     ]
    },
    {
     "name": "stderr",
     "output_type": "stream",
     "text": [
      "You are already timing task: index_run34\n",
      "You are already timing task: index_run34\n",
      "You are already timing task: index_run34\n",
      "You are already timing task: index_run34\n",
      "You are already timing task: index_run34\n",
      "You are already timing task: index_run34\n",
      "You are already timing task: index_run34\n",
      "You are already timing task: index_run34\n",
      "You are already timing task: index_run34\n",
      "You are already timing task: index_run34\n",
      "You are already timing task: index_run34\n",
      "You are already timing task: index_run34\n",
      "You are already timing task: index_run34\n",
      "You are already timing task: index_run34\n",
      "You are already timing task: index_run34\n",
      "You are already timing task: index_run34\n",
      "You are already timing task: index_run34\n",
      "You are already timing task: index_run34\n",
      "You are already timing task: index_run34\n",
      "You are already timing task: index_run34\n",
      "You are already timing task: index_run34\n",
      "You are already timing task: index_run34\n",
      "You are already timing task: index_run35\n",
      "You are already timing task: index_run35\n",
      "You are already timing task: index_run35\n",
      "You are already timing task: index_run35\n",
      "You are already timing task: index_run35\n",
      "You are already timing task: index_run35\n",
      "You are already timing task: index_run35\n",
      "You are already timing task: index_run35\n",
      "You are already timing task: index_run35\n",
      "You are already timing task: index_run35\n",
      "You are already timing task: index_run35\n",
      "You are already timing task: index_run35\n",
      "You are already timing task: index_run35\n",
      "You are already timing task: index_run35\n",
      "You are already timing task: index_run35\n",
      "You are already timing task: index_run35\n",
      "You are already timing task: index_run35\n",
      "You are already timing task: index_run35\n",
      "You are already timing task: index_run35\n",
      "You are already timing task: index_run35\n",
      "You are already timing task: index_run35\n",
      "You are already timing task: index_run35\n",
      "You are already timing task: index_run35\n",
      "You are already timing task: index_run35\n",
      "You are already timing task: index_run35\n",
      "You are already timing task: index_run35\n",
      "You are already timing task: index_run35\n",
      "You are already timing task: index_run35\n",
      "You are already timing task: index_run35\n",
      "You are already timing task: index_run35\n",
      "You are already timing task: index_run35\n",
      "You are already timing task: index_run35\n",
      "You are already timing task: index_run35\n",
      "You are already timing task: index_run35\n",
      "You are already timing task: index_run35\n",
      "You are already timing task: index_run35\n",
      "You are already timing task: index_run35\n",
      "You are already timing task: index_run35\n",
      "You are already timing task: index_run35\n",
      "You are already timing task: index_run35\n",
      "You are already timing task: index_run35\n",
      "You are already timing task: index_run35\n",
      "You are already timing task: index_run35\n",
      "You are already timing task: index_run35\n",
      "You are already timing task: index_run35\n",
      "You are already timing task: index_run35\n",
      "You are already timing task: index_run36\n",
      "You are already timing task: index_run36\n",
      "You are already timing task: index_run36\n",
      "You are already timing task: index_run36\n",
      "You are already timing task: index_run36\n",
      "You are already timing task: index_run36\n",
      "You are already timing task: index_run36\n",
      "You are already timing task: index_run36\n",
      "You are already timing task: index_run36\n",
      "You are already timing task: index_run36\n",
      "You are already timing task: index_run36\n",
      "You are already timing task: index_run36\n",
      "You are already timing task: index_run36\n",
      "You are already timing task: index_run36\n",
      "You are already timing task: index_run36\n",
      "You are already timing task: index_run36\n",
      "You are already timing task: index_run36\n",
      "You are already timing task: index_run36\n",
      "You are already timing task: index_run36\n",
      "You are already timing task: index_run36\n",
      "You are already timing task: index_run36\n",
      "You are already timing task: index_run36\n",
      "You are already timing task: index_run36\n",
      "You are already timing task: index_run37\n",
      "You are already timing task: index_run37\n",
      "You are already timing task: index_run37\n",
      "You are already timing task: index_run37\n",
      "You are already timing task: index_run37\n",
      "You are already timing task: index_run37\n",
      "You are already timing task: index_run37\n",
      "You are already timing task: index_run37\n",
      "You are already timing task: index_run37\n",
      "You are already timing task: index_run37\n",
      "You are already timing task: index_run37\n",
      "You are already timing task: index_run37\n",
      "You are already timing task: index_run37\n",
      "You are already timing task: index_run37\n",
      "You are already timing task: index_run37\n",
      "You are already timing task: index_run37\n",
      "You are already timing task: index_run37\n",
      "You are already timing task: index_run37\n",
      "You are already timing task: index_run37\n",
      "You are already timing task: index_run37\n",
      "You are already timing task: index_run37\n",
      "You are already timing task: index_run37\n",
      "You are already timing task: index_run37\n",
      "You are already timing task: index_run37\n",
      "You are already timing task: index_run37\n",
      "You are already timing task: index_run37\n",
      "You are already timing task: index_run37\n",
      "You are already timing task: index_run37\n",
      "You are already timing task: index_run37\n",
      "You are already timing task: index_run37\n",
      "You are already timing task: index_run37\n",
      "You are already timing task: index_run37\n",
      "You are already timing task: index_run37\n",
      "You are already timing task: index_run37\n",
      "You are already timing task: index_run37\n",
      "You are already timing task: index_run37\n",
      "You are already timing task: index_run37\n",
      "You are already timing task: index_run37\n",
      "You are already timing task: index_run37\n",
      "You are already timing task: index_run37\n",
      "You are already timing task: index_run37\n",
      "You are already timing task: index_run37\n",
      "You are already timing task: index_run37\n",
      "You are already timing task: index_run37\n",
      "You are already timing task: index_run37\n",
      "You are already timing task: index_run37\n",
      "You are already timing task: index_run37\n",
      "You are already timing task: index_run37\n",
      "You are already timing task: index_run37\n",
      "You are already timing task: index_run37\n",
      "You are already timing task: index_run37\n",
      "You are already timing task: index_run37\n",
      "You are already timing task: index_run37\n",
      "You are already timing task: index_run37\n",
      "You are already timing task: index_run37\n",
      "You are already timing task: index_run37\n",
      "You are already timing task: index_run37\n",
      "You are already timing task: index_run37\n",
      "You are already timing task: index_run37\n",
      "You are already timing task: index_run37\n",
      "You are already timing task: index_run37\n",
      "You are already timing task: index_run37\n",
      "You are already timing task: index_run37\n",
      "You are already timing task: index_run37\n",
      "You are already timing task: index_run37\n",
      "You are already timing task: index_run37\n",
      "You are already timing task: index_run37\n",
      "You are already timing task: index_run37\n",
      "You are already timing task: index_run37\n",
      "You are already timing task: index_run37\n",
      "You are already timing task: index_run37\n",
      "You are already timing task: index_run37\n",
      "You are already timing task: index_run37\n",
      "You are already timing task: index_run37\n",
      "You are already timing task: index_run37\n",
      "You are already timing task: index_run37\n",
      "You are already timing task: index_run37\n",
      "You are already timing task: index_run37\n",
      "You are already timing task: index_run37\n",
      "You are already timing task: index_run37\n",
      "You are already timing task: index_run37\n",
      "You are already timing task: index_run37\n",
      "You are already timing task: index_run37\n",
      "You are already timing task: index_run37\n",
      "You are already timing task: index_run37\n",
      "You are already timing task: index_run37\n",
      "You are already timing task: index_run37\n",
      "You are already timing task: index_run37\n",
      "You are already timing task: index_run37\n",
      "You are already timing task: index_run37\n",
      "You are already timing task: index_run37\n",
      "You are already timing task: index_run37\n",
      "You are already timing task: index_run37\n",
      "You are already timing task: index_run37\n",
      "You are already timing task: index_run37\n",
      "You are already timing task: index_run37\n",
      "You are already timing task: index_run37\n",
      "You are already timing task: index_run37\n",
      "You are already timing task: index_run37\n",
      "You are already timing task: index_run37\n",
      "You are already timing task: index_run37\n",
      "You are already timing task: index_run37\n",
      "You are already timing task: index_run37\n",
      "You are already timing task: index_run37\n",
      "You are already timing task: index_run37\n",
      "You are already timing task: index_run37\n",
      "You are already timing task: index_run37\n",
      "You are already timing task: index_run37\n",
      "You are already timing task: index_run37\n"
     ]
    },
    {
     "name": "stderr",
     "output_type": "stream",
     "text": [
      "You are already timing task: index_run37\n",
      "You are already timing task: index_run37\n",
      "You are already timing task: index_run37\n",
      "You are already timing task: index_run37\n",
      "You are already timing task: index_run37\n",
      "You are already timing task: index_run37\n",
      "You are already timing task: index_run37\n",
      "You are already timing task: index_run37\n",
      "You are already timing task: index_run37\n",
      "You are already timing task: index_run37\n",
      "You are already timing task: index_run37\n",
      "You are already timing task: index_run37\n",
      "You are already timing task: index_run37\n",
      "You are already timing task: index_run37\n",
      "You are already timing task: index_run37\n",
      "You are already timing task: index_run37\n",
      "You are already timing task: index_run37\n",
      "You are already timing task: index_run37\n",
      "You are already timing task: index_run37\n",
      "You are already timing task: index_run37\n",
      "You are already timing task: index_run37\n",
      "You are already timing task: index_run37\n",
      "You are already timing task: index_run37\n",
      "You are already timing task: index_run37\n",
      "You are already timing task: index_run37\n",
      "You are already timing task: index_run37\n",
      "You are already timing task: index_run37\n",
      "You are already timing task: index_run37\n",
      "You are already timing task: index_run37\n",
      "You are already timing task: index_run37\n",
      "You are already timing task: index_run37\n",
      "You are already timing task: index_run37\n",
      "You are already timing task: index_run37\n",
      "You are already timing task: index_run37\n",
      "You are already timing task: index_run37\n",
      "You are already timing task: index_run37\n",
      "You are already timing task: index_run37\n",
      "You are already timing task: index_run37\n",
      "You are already timing task: index_run37\n",
      "You are already timing task: index_run37\n",
      "You are already timing task: index_run37\n",
      "You are already timing task: index_run37\n",
      "You are already timing task: index_run37\n",
      "You are already timing task: index_run37\n",
      "You are already timing task: index_run37\n",
      "You are already timing task: index_run37\n",
      "You are already timing task: index_run37\n",
      "You are already timing task: index_run37\n",
      "You are already timing task: index_run37\n",
      "You are already timing task: index_run37\n",
      "You are already timing task: index_run37\n",
      "You are already timing task: index_run37\n",
      "You are already timing task: index_run37\n",
      "You are already timing task: index_run37\n",
      "You are already timing task: index_run37\n",
      "You are already timing task: index_run37\n",
      "You are already timing task: index_run37\n",
      "You are already timing task: index_run37\n",
      "You are already timing task: index_run37\n",
      "You are already timing task: index_run37\n",
      "You are already timing task: index_run37\n",
      "You are already timing task: index_run37\n",
      "You are already timing task: index_run37\n",
      "You are already timing task: index_run37\n",
      "You are already timing task: index_run37\n",
      "You are already timing task: index_run37\n",
      "You are already timing task: index_run37\n",
      "You are already timing task: index_run37\n",
      "You are already timing task: index_run37\n",
      "You are already timing task: index_run37\n",
      "You are already timing task: index_run37\n",
      "You are already timing task: index_run37\n",
      "You are already timing task: index_run37\n",
      "You are already timing task: index_run37\n",
      "You are already timing task: index_run37\n",
      "You are already timing task: index_run37\n",
      "You are already timing task: index_run37\n",
      "You are already timing task: index_run37\n",
      "You are already timing task: index_run37\n",
      "You are already timing task: index_run37\n",
      "You are already timing task: index_run37\n",
      "You are already timing task: index_run37\n",
      "You are already timing task: index_run37\n",
      "You are already timing task: index_run37\n",
      "You are already timing task: index_run37\n",
      "You are already timing task: index_run37\n",
      "You are already timing task: index_run37\n",
      "You are already timing task: index_run37\n",
      "You are already timing task: index_run37\n",
      "You are already timing task: index_run37\n",
      "You are already timing task: index_run37\n",
      "You are already timing task: index_run37\n",
      "You are already timing task: index_run37\n",
      "You are already timing task: index_run37\n",
      "You are already timing task: index_run37\n",
      "You are already timing task: index_run37\n",
      "You are already timing task: index_run37\n",
      "You are already timing task: index_run37\n",
      "You are already timing task: index_run37\n",
      "You are already timing task: index_run37\n",
      "You are already timing task: index_run37\n",
      "You are already timing task: index_run37\n",
      "You are already timing task: index_run37\n",
      "You are already timing task: index_run37\n",
      "You are already timing task: index_run37\n",
      "You are already timing task: index_run37\n",
      "You are already timing task: index_run37\n",
      "You are already timing task: index_run37\n",
      "You are already timing task: index_run37\n",
      "You are already timing task: index_run37\n",
      "You are already timing task: index_run37\n",
      "You are already timing task: index_run37\n",
      "You are already timing task: index_run37\n",
      "You are already timing task: index_run37\n",
      "You are already timing task: index_run37\n",
      "You are already timing task: index_run37\n",
      "You are already timing task: index_run37\n",
      "You are already timing task: index_run37\n",
      "You are already timing task: index_run37\n",
      "You are already timing task: index_run37\n",
      "You are already timing task: index_run37\n",
      "You are already timing task: index_run37\n",
      "You are already timing task: index_run37\n",
      "You are already timing task: index_run37\n",
      "You are already timing task: index_run37\n",
      "You are already timing task: index_run37\n",
      "You are already timing task: index_run37\n",
      "You are already timing task: index_run37\n",
      "You are already timing task: index_run37\n",
      "You are already timing task: index_run37\n",
      "You are already timing task: index_run37\n",
      "You are already timing task: index_run37\n",
      "You are already timing task: index_run37\n",
      "You are already timing task: index_run37\n",
      "You are already timing task: index_run37\n",
      "You are already timing task: index_run37\n",
      "You are already timing task: index_run37\n",
      "You are already timing task: index_run37\n",
      "You are already timing task: index_run37\n",
      "You are already timing task: index_run37\n",
      "You are already timing task: index_run37\n",
      "You are already timing task: index_run37\n",
      "You are already timing task: index_run37\n",
      "You are already timing task: index_run37\n",
      "You are already timing task: index_run37\n",
      "You are already timing task: index_run37\n",
      "You are already timing task: index_run37\n",
      "You are already timing task: index_run37\n",
      "You are already timing task: index_run38\n",
      "You are already timing task: index_run38\n",
      "You are already timing task: index_run38\n",
      "You are already timing task: index_run38\n",
      "You are already timing task: index_run38\n",
      "You are already timing task: index_run38\n",
      "You are already timing task: index_run38\n",
      "You are already timing task: index_run38\n",
      "You are already timing task: index_run38\n",
      "You are already timing task: index_run38\n",
      "You are already timing task: index_run38\n",
      "You are already timing task: index_run38\n",
      "You are already timing task: index_run38\n",
      "You are already timing task: index_run38\n",
      "You are already timing task: index_run38\n",
      "You are already timing task: index_run38\n",
      "You are already timing task: index_run38\n",
      "You are already timing task: index_run38\n",
      "You are already timing task: index_run38\n",
      "You are already timing task: index_run38\n",
      "You are already timing task: index_run38\n",
      "You are already timing task: index_run38\n",
      "You are already timing task: index_run38\n",
      "You are already timing task: index_run38\n",
      "You are already timing task: index_run38\n",
      "You are already timing task: index_run38\n",
      "You are already timing task: index_run38\n",
      "You are already timing task: index_run38\n",
      "You are already timing task: index_run38\n",
      "You are already timing task: index_run38\n",
      "You are already timing task: index_run38\n",
      "You are already timing task: index_run38\n",
      "You are already timing task: index_run38\n",
      "You are already timing task: index_run38\n",
      "You are already timing task: index_run38\n",
      "You are already timing task: index_run38\n",
      "You are already timing task: index_run38\n",
      "You are already timing task: index_run38\n",
      "You are already timing task: index_run38\n",
      "You are already timing task: index_run38\n",
      "You are already timing task: index_run38\n",
      "You are already timing task: index_run38\n",
      "You are already timing task: index_run38\n",
      "You are already timing task: index_run38\n",
      "You are already timing task: index_run38\n",
      "You are already timing task: index_run38\n",
      "You are already timing task: index_run38\n",
      "You are already timing task: index_run38\n",
      "You are already timing task: index_run38\n",
      "You are already timing task: index_run38\n",
      "You are already timing task: index_run38\n",
      "You are already timing task: index_run38\n"
     ]
    },
    {
     "name": "stderr",
     "output_type": "stream",
     "text": [
      "You are already timing task: index_run38\n",
      "You are already timing task: index_run38\n",
      "You are already timing task: index_run38\n",
      "You are already timing task: index_run38\n",
      "You are already timing task: index_run38\n",
      "You are already timing task: index_run38\n",
      "You are already timing task: index_run38\n",
      "You are already timing task: index_run38\n",
      "You are already timing task: index_run38\n",
      "You are already timing task: index_run38\n",
      "You are already timing task: index_run38\n",
      "You are already timing task: index_run38\n",
      "You are already timing task: index_run38\n",
      "You are already timing task: index_run38\n",
      "You are already timing task: index_run38\n",
      "You are already timing task: index_run38\n",
      "You are already timing task: index_run38\n",
      "You are already timing task: index_run38\n",
      "You are already timing task: index_run38\n",
      "You are already timing task: index_run38\n",
      "You are already timing task: index_run38\n",
      "You are already timing task: index_run38\n",
      "You are already timing task: index_run38\n",
      "You are already timing task: index_run38\n",
      "You are already timing task: index_run38\n",
      "You are already timing task: index_run38\n",
      "You are already timing task: index_run38\n",
      "You are already timing task: index_run38\n",
      "You are already timing task: index_run38\n",
      "You are already timing task: index_run38\n",
      "You are already timing task: index_run38\n",
      "You are already timing task: index_run38\n",
      "You are already timing task: index_run38\n",
      "You are already timing task: index_run38\n",
      "You are already timing task: index_run38\n",
      "You are already timing task: index_run38\n",
      "You are already timing task: index_run38\n",
      "You are already timing task: index_run38\n",
      "You are already timing task: index_run38\n",
      "You are already timing task: index_run38\n",
      "You are already timing task: index_run38\n",
      "You are already timing task: index_run38\n",
      "You are already timing task: index_run38\n",
      "You are already timing task: index_run38\n",
      "You are already timing task: index_run38\n",
      "You are already timing task: index_run38\n",
      "You are already timing task: index_run38\n",
      "You are already timing task: index_run38\n",
      "You are already timing task: index_run38\n",
      "You are already timing task: index_run38\n",
      "You are already timing task: index_run38\n",
      "You are already timing task: index_run38\n",
      "You are already timing task: index_run38\n",
      "You are already timing task: index_run38\n",
      "You are already timing task: index_run38\n",
      "You are already timing task: index_run38\n",
      "You are already timing task: index_run38\n",
      "You are already timing task: index_run38\n",
      "You are already timing task: index_run38\n",
      "You are already timing task: index_run38\n",
      "You are already timing task: index_run38\n",
      "You are already timing task: index_run38\n",
      "You are already timing task: index_run38\n",
      "You are already timing task: index_run38\n",
      "You are already timing task: index_run38\n",
      "You are already timing task: index_run38\n",
      "You are already timing task: index_run38\n",
      "You are already timing task: index_run38\n",
      "You are already timing task: index_run38\n",
      "You are already timing task: index_run38\n",
      "You are already timing task: index_run38\n",
      "You are already timing task: index_run38\n",
      "You are already timing task: index_run38\n",
      "You are already timing task: index_run38\n",
      "You are already timing task: index_run38\n",
      "You are already timing task: index_run38\n",
      "You are already timing task: index_run38\n",
      "You are already timing task: index_run38\n",
      "You are already timing task: index_run38\n",
      "You are already timing task: index_run38\n",
      "You are already timing task: index_run38\n",
      "You are already timing task: index_run39\n",
      "You are already timing task: index_run39\n",
      "You are already timing task: index_run39\n",
      "You are already timing task: index_run40\n"
     ]
    }
   ],
   "source": [
    "cls.fit(X_train, y_train)"
   ]
  },
  {
   "cell_type": "code",
   "execution_count": 10,
   "metadata": {},
   "outputs": [],
   "source": [
    "pred_train = cls.predict(X_train)"
   ]
  },
  {
   "cell_type": "code",
   "execution_count": 16,
   "metadata": {},
   "outputs": [
    {
     "name": "stdout",
     "output_type": "stream",
     "text": [
      "Accuracy score 0.647887323944\n"
     ]
    }
   ],
   "source": [
    "print(\"Accuracy score\", accuracy_score(y_train, pred_train))"
   ]
  },
  {
   "cell_type": "code",
   "execution_count": 18,
   "metadata": {},
   "outputs": [],
   "source": [
    "pred_test = cls.predict(X_test)"
   ]
  },
  {
   "cell_type": "code",
   "execution_count": 19,
   "metadata": {},
   "outputs": [
    {
     "name": "stdout",
     "output_type": "stream",
     "text": [
      "Accuracy score 0.512\n"
     ]
    }
   ],
   "source": [
    "print(\"Accuracy score\", accuracy_score(y_test, pred_test))"
   ]
  },
  {
   "cell_type": "code",
   "execution_count": 26,
   "metadata": {},
   "outputs": [],
   "source": [
    "import matplotlib.pyplot as plt\n",
    "import seaborn as sns\n",
    "%matplotlib inline"
   ]
  },
  {
   "cell_type": "code",
   "execution_count": 31,
   "metadata": {},
   "outputs": [
    {
     "data": {
      "image/png": "[encoded data removed]",
      "text/plain": [
       "<Figure size 720x576 with 2 Axes>"
      ]
     },
     "metadata": {},
     "output_type": "display_data"
    }
   ],
   "source": [
    "conf_matrix = confusion_matrix(y_test, pred_test)\n",
    "plt.figure(figsize=(10, 8))\n",
    "sns.heatmap(conf_matrix, annot=True, fmt=\"d\", cmap='BuPu');\n",
    "plt.title(\"Confusion matrix\")\n",
    "plt.ylabel('True class')\n",
    "plt.xlabel('Predicted class')\n",
    "plt.show()"
   ]
  },
  {
   "cell_type": "code",
   "execution_count": null,
   "metadata": {},
   "outputs": [],
   "source": []
  }
 ],
 "metadata": {
  "kernelspec": {
   "display_name": "Python 3",
   "language": "python",
   "name": "python3"
  },
  "language_info": {
   "codemirror_mode": {
    "name": "ipython",
    "version": 3
   },
   "file_extension": ".py",
   "mimetype": "text/x-python",
   "name": "python",
   "nbconvert_exporter": "python",
   "pygments_lexer": "ipython3",
   "version": "3.6.5"
  }
 },
 "nbformat": 4,
 "nbformat_minor": 2
}
