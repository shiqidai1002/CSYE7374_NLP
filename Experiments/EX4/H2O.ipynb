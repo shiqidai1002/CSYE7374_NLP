{
 "cells": [
  {
   "cell_type": "code",
   "execution_count": 9,
   "metadata": {},
   "outputs": [],
   "source": [
    "import pandas as pd\n",
    "import numpy as np\n",
    "import h2o\n",
    "from h2o.automl import H2OAutoML\n",
    "from h2o.estimators import H2OAutoEncoderEstimator, H2ODeepLearningEstimator\n",
    "from sklearn.model_selection import train_test_split\n",
    "import sklearn.metrics"
   ]
  },
  {
   "cell_type": "code",
   "execution_count": 3,
   "metadata": {},
   "outputs": [],
   "source": [
    "scores = pd.read_csv('all_api_raw_scores.csv')"
   ]
  },
  {
   "cell_type": "code",
   "execution_count": 4,
   "metadata": {},
   "outputs": [
    {
     "data": {
      "text/html": [
       "<div>\n",
       "<style scoped>\n",
       "    .dataframe tbody tr th:only-of-type {\n",
       "        vertical-align: middle;\n",
       "    }\n",
       "\n",
       "    .dataframe tbody tr th {\n",
       "        vertical-align: top;\n",
       "    }\n",
       "\n",
       "    .dataframe thead th {\n",
       "        text-align: right;\n",
       "    }\n",
       "</style>\n",
       "<table border=\"1\" class=\"dataframe\">\n",
       "  <thead>\n",
       "    <tr style=\"text-align: right;\">\n",
       "      <th></th>\n",
       "      <th>IBM</th>\n",
       "      <th>Azure</th>\n",
       "      <th>Google</th>\n",
       "      <th>AWS</th>\n",
       "    </tr>\n",
       "  </thead>\n",
       "  <tbody>\n",
       "    <tr>\n",
       "      <th>0</th>\n",
       "      <td>0.760051</td>\n",
       "      <td>0.958107</td>\n",
       "      <td>0.3</td>\n",
       "      <td>0.514261</td>\n",
       "    </tr>\n",
       "    <tr>\n",
       "      <th>1</th>\n",
       "      <td>0.908944</td>\n",
       "      <td>0.961736</td>\n",
       "      <td>0.4</td>\n",
       "      <td>0.820620</td>\n",
       "    </tr>\n",
       "    <tr>\n",
       "      <th>2</th>\n",
       "      <td>-0.675144</td>\n",
       "      <td>0.500000</td>\n",
       "      <td>0.0</td>\n",
       "      <td>0.946000</td>\n",
       "    </tr>\n",
       "    <tr>\n",
       "      <th>3</th>\n",
       "      <td>0.707989</td>\n",
       "      <td>0.500000</td>\n",
       "      <td>0.6</td>\n",
       "      <td>0.710918</td>\n",
       "    </tr>\n",
       "    <tr>\n",
       "      <th>4</th>\n",
       "      <td>0.806287</td>\n",
       "      <td>0.500000</td>\n",
       "      <td>0.3</td>\n",
       "      <td>0.572770</td>\n",
       "    </tr>\n",
       "  </tbody>\n",
       "</table>\n",
       "</div>"
      ],
      "text/plain": [
       "        IBM     Azure  Google       AWS\n",
       "0  0.760051  0.958107     0.3  0.514261\n",
       "1  0.908944  0.961736     0.4  0.820620\n",
       "2 -0.675144  0.500000     0.0  0.946000\n",
       "3  0.707989  0.500000     0.6  0.710918\n",
       "4  0.806287  0.500000     0.3  0.572770"
      ]
     },
     "execution_count": 4,
     "metadata": {},
     "output_type": "execute_result"
    }
   ],
   "source": [
    "scores.head(5)"
   ]
  },
  {
   "cell_type": "code",
   "execution_count": 5,
   "metadata": {},
   "outputs": [
    {
     "data": {
      "text/html": [
       "<div>\n",
       "<style scoped>\n",
       "    .dataframe tbody tr th:only-of-type {\n",
       "        vertical-align: middle;\n",
       "    }\n",
       "\n",
       "    .dataframe tbody tr th {\n",
       "        vertical-align: top;\n",
       "    }\n",
       "\n",
       "    .dataframe thead th {\n",
       "        text-align: right;\n",
       "    }\n",
       "</style>\n",
       "<table border=\"1\" class=\"dataframe\">\n",
       "  <thead>\n",
       "    <tr style=\"text-align: right;\">\n",
       "      <th></th>\n",
       "      <th>text</th>\n",
       "      <th>sentiment</th>\n",
       "    </tr>\n",
       "  </thead>\n",
       "  <tbody>\n",
       "    <tr>\n",
       "      <th>0</th>\n",
       "      <td>Good day ladies and gentlemen, and welcome to ...</td>\n",
       "      <td>neutral</td>\n",
       "    </tr>\n",
       "    <tr>\n",
       "      <th>1</th>\n",
       "      <td>Thank you. Good afternoon everyone and welcome...</td>\n",
       "      <td>neutral</td>\n",
       "    </tr>\n",
       "    <tr>\n",
       "      <th>2</th>\n",
       "      <td>G&amp;A expense trends in the third quarter were a...</td>\n",
       "      <td>neutral</td>\n",
       "    </tr>\n",
       "    <tr>\n",
       "      <th>3</th>\n",
       "      <td>To give you a bit of a breakdown, the largest ...</td>\n",
       "      <td>positive</td>\n",
       "    </tr>\n",
       "    <tr>\n",
       "      <th>4</th>\n",
       "      <td>That being said, we do remain very focused on ...</td>\n",
       "      <td>neutral</td>\n",
       "    </tr>\n",
       "  </tbody>\n",
       "</table>\n",
       "</div>"
      ],
      "text/plain": [
       "                                                text sentiment\n",
       "0  Good day ladies and gentlemen, and welcome to ...   neutral\n",
       "1  Thank you. Good afternoon everyone and welcome...   neutral\n",
       "2  G&A expense trends in the third quarter were a...   neutral\n",
       "3  To give you a bit of a breakdown, the largest ...  positive\n",
       "4  That being said, we do remain very focused on ...   neutral"
      ]
     },
     "execution_count": 5,
     "metadata": {},
     "output_type": "execute_result"
    }
   ],
   "source": [
    "labels = pd.read_csv('merged.csv')\n",
    "labels.head(5)"
   ]
  },
  {
   "cell_type": "code",
   "execution_count": 6,
   "metadata": {},
   "outputs": [],
   "source": [
    "scores['sentiment'] = labels['sentiment']"
   ]
  },
  {
   "cell_type": "code",
   "execution_count": 7,
   "metadata": {},
   "outputs": [],
   "source": [
    "scores.to_csv('data_for_automl.csv', index=False)"
   ]
  },
  {
   "cell_type": "code",
   "execution_count": 8,
   "metadata": {},
   "outputs": [
    {
     "name": "stdout",
     "output_type": "stream",
     "text": [
      "Checking whether there is an H2O instance running at http://localhost:54321..... not found.\n",
      "Attempting to start a local H2O server...\n",
      "; Java HotSpot(TM) 64-Bit Server VM (build 25.191-b12, mixed mode)\n",
      "  Starting server from F:\\anaconda\\lib\\site-packages\\h2o\\backend\\bin\\h2o.jar\n",
      "  Ice root: C:\\Users\\gaurang\\AppData\\Local\\Temp\\tmpchwrmxxz\n",
      "  JVM stdout: C:\\Users\\gaurang\\AppData\\Local\\Temp\\tmpchwrmxxz\\h2o_Gaurang_Davda_started_from_python.out\n",
      "  JVM stderr: C:\\Users\\gaurang\\AppData\\Local\\Temp\\tmpchwrmxxz\\h2o_Gaurang_Davda_started_from_python.err\n",
      "  Server is running at http://127.0.0.1:54321\n",
      "Connecting to H2O server at http://127.0.0.1:54321... successful.\n"
     ]
    },
    {
     "data": {
      "text/html": [
       "<div style=\"overflow:auto\"><table style=\"width:50%\"><tr><td>H2O cluster uptime:</td>\n",
       "<td>03 secs</td></tr>\n",
       "<tr><td>H2O cluster timezone:</td>\n",
       "<td>America/New_York</td></tr>\n",
       "<tr><td>H2O data parsing timezone:</td>\n",
       "<td>UTC</td></tr>\n",
       "<tr><td>H2O cluster version:</td>\n",
       "<td>3.20.0.9</td></tr>\n",
       "<tr><td>H2O cluster version age:</td>\n",
       "<td>1 month and 28 days </td></tr>\n",
       "<tr><td>H2O cluster name:</td>\n",
       "<td>H2O_from_python_Gaurang_Davda_36ydgm</td></tr>\n",
       "<tr><td>H2O cluster total nodes:</td>\n",
       "<td>1</td></tr>\n",
       "<tr><td>H2O cluster free memory:</td>\n",
       "<td>10.67 Gb</td></tr>\n",
       "<tr><td>H2O cluster total cores:</td>\n",
       "<td>4</td></tr>\n",
       "<tr><td>H2O cluster allowed cores:</td>\n",
       "<td>2</td></tr>\n",
       "<tr><td>H2O cluster status:</td>\n",
       "<td>accepting new members, healthy</td></tr>\n",
       "<tr><td>H2O connection url:</td>\n",
       "<td>http://127.0.0.1:54321</td></tr>\n",
       "<tr><td>H2O connection proxy:</td>\n",
       "<td>None</td></tr>\n",
       "<tr><td>H2O internal security:</td>\n",
       "<td>False</td></tr>\n",
       "<tr><td>H2O API Extensions:</td>\n",
       "<td>Algos, AutoML, Core V3, Core V4</td></tr>\n",
       "<tr><td>Python version:</td>\n",
       "<td>3.6.5 final</td></tr></table></div>"
      ],
      "text/plain": [
       "--------------------------  ------------------------------------\n",
       "H2O cluster uptime:         03 secs\n",
       "H2O cluster timezone:       America/New_York\n",
       "H2O data parsing timezone:  UTC\n",
       "H2O cluster version:        3.20.0.9\n",
       "H2O cluster version age:    1 month and 28 days\n",
       "H2O cluster name:           H2O_from_python_Gaurang_Davda_36ydgm\n",
       "H2O cluster total nodes:    1\n",
       "H2O cluster free memory:    10.67 Gb\n",
       "H2O cluster total cores:    4\n",
       "H2O cluster allowed cores:  2\n",
       "H2O cluster status:         accepting new members, healthy\n",
       "H2O connection url:         http://127.0.0.1:54321\n",
       "H2O connection proxy:\n",
       "H2O internal security:      False\n",
       "H2O API Extensions:         Algos, AutoML, Core V3, Core V4\n",
       "Python version:             3.6.5 final\n",
       "--------------------------  ------------------------------------"
      ]
     },
     "metadata": {},
     "output_type": "display_data"
    }
   ],
   "source": [
    "h2o.init(nthreads = 2, max_mem_size = 12)"
   ]
  },
  {
   "cell_type": "code",
   "execution_count": 10,
   "metadata": {},
   "outputs": [
    {
     "name": "stdout",
     "output_type": "stream",
     "text": [
      "Parse progress: |█████████████████████████████████████████████████████████| 100%\n"
     ]
    }
   ],
   "source": [
    "data = h2o.import_file('data_for_automl.csv')"
   ]
  },
  {
   "cell_type": "code",
   "execution_count": 11,
   "metadata": {},
   "outputs": [],
   "source": [
    "splits = data.split_frame(ratios=[0.8], seed=1)\n",
    "train = splits[0]\n",
    "test = splits[1]"
   ]
  },
  {
   "cell_type": "code",
   "execution_count": 12,
   "metadata": {},
   "outputs": [
    {
     "name": "stdout",
     "output_type": "stream",
     "text": [
      "AutoML progress: |████████████████████████████████████████████████████████| 100%\n"
     ]
    }
   ],
   "source": [
    "aml = H2OAutoML(max_runtime_secs=600, seed = 1, project_name = \"Sentiment generalization\")\n",
    "aml.train(y = 'sentiment', training_frame = train)"
   ]
  },
  {
   "cell_type": "code",
   "execution_count": 13,
   "metadata": {},
   "outputs": [
    {
     "data": {
      "text/html": [
       "<table>\n",
       "<thead>\n",
       "<tr><th>model_id                                          </th><th style=\"text-align: right;\">  mean_per_class_error</th><th style=\"text-align: right;\">  logloss</th><th style=\"text-align: right;\">    rmse</th><th style=\"text-align: right;\">     mse</th></tr>\n",
       "</thead>\n",
       "<tbody>\n",
       "<tr><td>GBM_grid_0_AutoML_20181130_030545_model_0         </td><td style=\"text-align: right;\">              0.522396</td><td style=\"text-align: right;\"> 0.893097</td><td style=\"text-align: right;\">0.548703</td><td style=\"text-align: right;\">0.301076</td></tr>\n",
       "<tr><td>DeepLearning_grid_0_AutoML_20181130_030545_model_1</td><td style=\"text-align: right;\">              0.52817 </td><td style=\"text-align: right;\"> 1.3272  </td><td style=\"text-align: right;\">0.594406</td><td style=\"text-align: right;\">0.353319</td></tr>\n",
       "<tr><td>DeepLearning_grid_0_AutoML_20181130_030545_model_4</td><td style=\"text-align: right;\">              0.534974</td><td style=\"text-align: right;\"> 1.54378 </td><td style=\"text-align: right;\">0.601865</td><td style=\"text-align: right;\">0.362241</td></tr>\n",
       "<tr><td>DRF_0_AutoML_20181130_030545                      </td><td style=\"text-align: right;\">              0.538756</td><td style=\"text-align: right;\"> 2.66048 </td><td style=\"text-align: right;\">0.563078</td><td style=\"text-align: right;\">0.317057</td></tr>\n",
       "<tr><td>DeepLearning_grid_0_AutoML_20181130_030545_model_0</td><td style=\"text-align: right;\">              0.545096</td><td style=\"text-align: right;\"> 1.03317 </td><td style=\"text-align: right;\">0.564589</td><td style=\"text-align: right;\">0.318761</td></tr>\n",
       "<tr><td>GBM_grid_0_AutoML_20181130_030545_model_2         </td><td style=\"text-align: right;\">              0.549248</td><td style=\"text-align: right;\"> 0.884855</td><td style=\"text-align: right;\">0.553066</td><td style=\"text-align: right;\">0.305882</td></tr>\n",
       "<tr><td>XRT_0_AutoML_20181130_030545                      </td><td style=\"text-align: right;\">              0.557479</td><td style=\"text-align: right;\"> 2.48489 </td><td style=\"text-align: right;\">0.558894</td><td style=\"text-align: right;\">0.312363</td></tr>\n",
       "<tr><td>GBM_grid_0_AutoML_20181130_030545_model_1         </td><td style=\"text-align: right;\">              0.558117</td><td style=\"text-align: right;\"> 0.889837</td><td style=\"text-align: right;\">0.55559 </td><td style=\"text-align: right;\">0.308681</td></tr>\n",
       "<tr><td>GBM_grid_0_AutoML_20181130_030545_model_6         </td><td style=\"text-align: right;\">              0.558733</td><td style=\"text-align: right;\"> 0.998903</td><td style=\"text-align: right;\">0.630179</td><td style=\"text-align: right;\">0.397126</td></tr>\n",
       "<tr><td>GBM_grid_0_AutoML_20181130_030545_model_3         </td><td style=\"text-align: right;\">              0.570582</td><td style=\"text-align: right;\"> 0.892059</td><td style=\"text-align: right;\">0.556443</td><td style=\"text-align: right;\">0.309629</td></tr>\n",
       "</tbody>\n",
       "</table>"
      ]
     },
     "metadata": {},
     "output_type": "display_data"
    },
    {
     "data": {
      "text/plain": []
     },
     "execution_count": 13,
     "metadata": {},
     "output_type": "execute_result"
    }
   ],
   "source": [
    "aml.leaderboard"
   ]
  },
  {
   "cell_type": "code",
   "execution_count": 14,
   "metadata": {},
   "outputs": [
    {
     "name": "stdout",
     "output_type": "stream",
     "text": [
      "gbm prediction progress: |████████████████████████████████████████████████| 100%\n"
     ]
    },
    {
     "data": {
      "text/html": [
       "<table>\n",
       "<thead>\n",
       "<tr><th>predict  </th><th style=\"text-align: right;\">  negative</th><th style=\"text-align: right;\">  neutral</th><th style=\"text-align: right;\">  positive</th></tr>\n",
       "</thead>\n",
       "<tbody>\n",
       "<tr><td>positive </td><td style=\"text-align: right;\"> 0.0930294</td><td style=\"text-align: right;\">0.358858 </td><td style=\"text-align: right;\">  0.548112</td></tr>\n",
       "<tr><td>positive </td><td style=\"text-align: right;\"> 0.0257354</td><td style=\"text-align: right;\">0.34307  </td><td style=\"text-align: right;\">  0.631194</td></tr>\n",
       "<tr><td>positive </td><td style=\"text-align: right;\"> 0.0246178</td><td style=\"text-align: right;\">0.143438 </td><td style=\"text-align: right;\">  0.831944</td></tr>\n",
       "<tr><td>neutral  </td><td style=\"text-align: right;\"> 0.0440684</td><td style=\"text-align: right;\">0.576765 </td><td style=\"text-align: right;\">  0.379166</td></tr>\n",
       "<tr><td>positive </td><td style=\"text-align: right;\"> 0.0212467</td><td style=\"text-align: right;\">0.16071  </td><td style=\"text-align: right;\">  0.818043</td></tr>\n",
       "<tr><td>neutral  </td><td style=\"text-align: right;\"> 0.0653325</td><td style=\"text-align: right;\">0.62122  </td><td style=\"text-align: right;\">  0.313448</td></tr>\n",
       "<tr><td>positive </td><td style=\"text-align: right;\"> 0.106849 </td><td style=\"text-align: right;\">0.321905 </td><td style=\"text-align: right;\">  0.571245</td></tr>\n",
       "<tr><td>positive </td><td style=\"text-align: right;\"> 0.0129241</td><td style=\"text-align: right;\">0.0968371</td><td style=\"text-align: right;\">  0.890239</td></tr>\n",
       "<tr><td>positive </td><td style=\"text-align: right;\"> 0.0137731</td><td style=\"text-align: right;\">0.0480035</td><td style=\"text-align: right;\">  0.938223</td></tr>\n",
       "<tr><td>neutral  </td><td style=\"text-align: right;\"> 0.135756 </td><td style=\"text-align: right;\">0.678447 </td><td style=\"text-align: right;\">  0.185797</td></tr>\n",
       "</tbody>\n",
       "</table>"
      ]
     },
     "metadata": {},
     "output_type": "display_data"
    },
    {
     "data": {
      "text/plain": []
     },
     "execution_count": 14,
     "metadata": {},
     "output_type": "execute_result"
    }
   ],
   "source": [
    "pred = aml.predict(test)\n",
    "pred.head()"
   ]
  },
  {
   "cell_type": "code",
   "execution_count": 15,
   "metadata": {},
   "outputs": [
    {
     "name": "stdout",
     "output_type": "stream",
     "text": [
      "\n",
      "ModelMetricsMultinomial: gbm\n",
      "** Reported on test data. **\n",
      "\n",
      "MSE: 0.34388680938518484\n",
      "RMSE: 0.5864186298073969\n",
      "LogLoss: 0.9986286904558155\n",
      "Mean Per-Class Error: 0.5791666666666667\n",
      "Confusion Matrix: Row labels: Actual class; Column labels: Predicted class\n",
      "\n"
     ]
    },
    {
     "data": {
      "text/html": [
       "<div style=\"overflow:auto\"><table style=\"width:50%\"><tr><td><b>negative</b></td>\n",
       "<td><b>neutral</b></td>\n",
       "<td><b>positive</b></td>\n",
       "<td><b>Error</b></td>\n",
       "<td><b>Rate</b></td></tr>\n",
       "<tr><td>1.0</td>\n",
       "<td>7.0</td>\n",
       "<td>8.0</td>\n",
       "<td>0.9375</td>\n",
       "<td>15 / 16</td></tr>\n",
       "<tr><td>0.0</td>\n",
       "<td>24.0</td>\n",
       "<td>21.0</td>\n",
       "<td>0.4666667</td>\n",
       "<td>21 / 45</td></tr>\n",
       "<tr><td>3.0</td>\n",
       "<td>20.0</td>\n",
       "<td>46.0</td>\n",
       "<td>0.3333333</td>\n",
       "<td>23 / 69</td></tr>\n",
       "<tr><td>4.0</td>\n",
       "<td>51.0</td>\n",
       "<td>75.0</td>\n",
       "<td>0.4538462</td>\n",
       "<td>59 / 130</td></tr></table></div>"
      ],
      "text/plain": [
       "negative    neutral    positive    Error     Rate\n",
       "----------  ---------  ----------  --------  --------\n",
       "1           7          8           0.9375    15 / 16\n",
       "0           24         21          0.466667  21 / 45\n",
       "3           20         46          0.333333  23 / 69\n",
       "4           51         75          0.453846  59 / 130"
      ]
     },
     "metadata": {},
     "output_type": "display_data"
    },
    {
     "name": "stdout",
     "output_type": "stream",
     "text": [
      "Top-3 Hit Ratios: \n"
     ]
    },
    {
     "data": {
      "text/html": [
       "<div style=\"overflow:auto\"><table style=\"width:50%\"><tr><td><b>k</b></td>\n",
       "<td><b>hit_ratio</b></td></tr>\n",
       "<tr><td>1</td>\n",
       "<td>0.5461538</td></tr>\n",
       "<tr><td>2</td>\n",
       "<td>0.8846154</td></tr>\n",
       "<tr><td>3</td>\n",
       "<td>1.0</td></tr></table></div>"
      ],
      "text/plain": [
       "k    hit_ratio\n",
       "---  -----------\n",
       "1    0.546154\n",
       "2    0.884615\n",
       "3    1"
      ]
     },
     "metadata": {},
     "output_type": "display_data"
    },
    {
     "data": {
      "text/plain": []
     },
     "execution_count": 15,
     "metadata": {},
     "output_type": "execute_result"
    }
   ],
   "source": [
    "perf = aml.leader.model_performance(test)\n",
    "perf"
   ]
  },
  {
   "cell_type": "code",
   "execution_count": 16,
   "metadata": {},
   "outputs": [
    {
     "name": "stdout",
     "output_type": "stream",
     "text": [
      "Confusion Matrix: Row labels: Actual class; Column labels: Predicted class\n",
      "\n"
     ]
    },
    {
     "data": {
      "text/html": [
       "<div style=\"overflow:auto\"><table style=\"width:50%\"><tr><td><b>negative</b></td>\n",
       "<td><b>neutral</b></td>\n",
       "<td><b>positive</b></td>\n",
       "<td><b>Error</b></td>\n",
       "<td><b>Rate</b></td></tr>\n",
       "<tr><td>1.0</td>\n",
       "<td>7.0</td>\n",
       "<td>8.0</td>\n",
       "<td>0.9375</td>\n",
       "<td>15 / 16</td></tr>\n",
       "<tr><td>0.0</td>\n",
       "<td>24.0</td>\n",
       "<td>21.0</td>\n",
       "<td>0.4666667</td>\n",
       "<td>21 / 45</td></tr>\n",
       "<tr><td>3.0</td>\n",
       "<td>20.0</td>\n",
       "<td>46.0</td>\n",
       "<td>0.3333333</td>\n",
       "<td>23 / 69</td></tr>\n",
       "<tr><td>4.0</td>\n",
       "<td>51.0</td>\n",
       "<td>75.0</td>\n",
       "<td>0.4538462</td>\n",
       "<td>59 / 130</td></tr></table></div>"
      ],
      "text/plain": [
       "negative    neutral    positive    Error     Rate\n",
       "----------  ---------  ----------  --------  --------\n",
       "1           7          8           0.9375    15 / 16\n",
       "0           24         21          0.466667  21 / 45\n",
       "3           20         46          0.333333  23 / 69\n",
       "4           51         75          0.453846  59 / 130"
      ]
     },
     "metadata": {},
     "output_type": "display_data"
    },
    {
     "data": {
      "text/plain": []
     },
     "execution_count": 16,
     "metadata": {},
     "output_type": "execute_result"
    }
   ],
   "source": [
    "perf.confusion_matrix()"
   ]
  },
  {
   "cell_type": "code",
   "execution_count": 19,
   "metadata": {},
   "outputs": [
    {
     "data": {
      "image/png": "[encoded data removed]",
      "text/plain": [
       "<Figure size 432x288 with 1 Axes>"
      ]
     },
     "metadata": {},
     "output_type": "display_data"
    }
   ],
   "source": [
    "aml.leader.plot()"
   ]
  },
  {
   "cell_type": "code",
   "execution_count": 18,
   "metadata": {},
   "outputs": [
    {
     "data": {
      "image/png": "[encoded data removed]",
      "text/plain": [
       "<Figure size 1008x720 with 1 Axes>"
      ]
     },
     "metadata": {},
     "output_type": "display_data"
    }
   ],
   "source": [
    "aml.leader.varimp_plot()"
   ]
  },
  {
   "cell_type": "code",
   "execution_count": 33,
   "metadata": {},
   "outputs": [
    {
     "data": {
      "text/plain": [
       "0.5192036199095021"
      ]
     },
     "execution_count": 33,
     "metadata": {},
     "output_type": "execute_result"
    }
   ],
   "source": [
    "sklearn.metrics.precision_score(test['sentiment'].as_data_frame(), pred['predict'].as_data_frame(), average='weighted')"
   ]
  },
  {
   "cell_type": "code",
   "execution_count": 34,
   "metadata": {},
   "outputs": [
    {
     "data": {
      "text/plain": [
       "0.5461538461538461"
      ]
     },
     "execution_count": 34,
     "metadata": {},
     "output_type": "execute_result"
    }
   ],
   "source": [
    "sklearn.metrics.recall_score(test['sentiment'].as_data_frame(), pred['predict'].as_data_frame(), average='weighted')"
   ]
  },
  {
   "cell_type": "code",
   "execution_count": 35,
   "metadata": {},
   "outputs": [
    {
     "data": {
      "text/plain": [
       "0.5461538461538461"
      ]
     },
     "execution_count": 35,
     "metadata": {},
     "output_type": "execute_result"
    }
   ],
   "source": [
    "sklearn.metrics.accuracy_score(test['sentiment'].as_data_frame(), pred['predict'].as_data_frame())"
   ]
  },
  {
   "cell_type": "code",
   "execution_count": 36,
   "metadata": {},
   "outputs": [
    {
     "name": "stdout",
     "output_type": "stream",
     "text": [
      "deeplearning Model Build progress: |██████████████████████████████████████| 100%\n"
     ]
    }
   ],
   "source": [
    "splitsv = data.split_frame(ratios=[0.7, 0.15], seed=1)\n",
    "trainv = splitsv[0]\n",
    "val = splitsv[1]\n",
    "testv = splitsv[2]\n",
    "deep = H2ODeepLearningEstimator(model_id='deep', epochs=100, hidden=[50,100])\n",
    "# The use of a validation_frame is recommended with using early stopping\n",
    "deep.train(x=['IBM', 'Azure', 'Google', 'AWS'], y='sentiment', training_frame=trainv, validation_frame=val)"
   ]
  },
  {
   "cell_type": "code",
   "execution_count": 37,
   "metadata": {},
   "outputs": [
    {
     "name": "stdout",
     "output_type": "stream",
     "text": [
      "\n",
      "ModelMetricsMultinomial: deeplearning\n",
      "** Reported on test data. **\n",
      "\n",
      "MSE: 0.38027575488738363\n",
      "RMSE: 0.6166650264830847\n",
      "LogLoss: 1.2378632495413835\n",
      "Mean Per-Class Error: 0.6307277628032345\n",
      "Confusion Matrix: Row labels: Actual class; Column labels: Predicted class\n",
      "\n"
     ]
    },
    {
     "data": {
      "text/html": [
       "<div style=\"overflow:auto\"><table style=\"width:50%\"><tr><td><b>negative</b></td>\n",
       "<td><b>neutral</b></td>\n",
       "<td><b>positive</b></td>\n",
       "<td><b>Error</b></td>\n",
       "<td><b>Rate</b></td></tr>\n",
       "<tr><td>1.0</td>\n",
       "<td>0.0</td>\n",
       "<td>6.0</td>\n",
       "<td>0.8571429</td>\n",
       "<td>6 / 7</td></tr>\n",
       "<tr><td>5.0</td>\n",
       "<td>10.0</td>\n",
       "<td>20.0</td>\n",
       "<td>0.7142857</td>\n",
       "<td>25 / 35</td></tr>\n",
       "<tr><td>9.0</td>\n",
       "<td>8.0</td>\n",
       "<td>36.0</td>\n",
       "<td>0.3207547</td>\n",
       "<td>17 / 53</td></tr>\n",
       "<tr><td>15.0</td>\n",
       "<td>18.0</td>\n",
       "<td>62.0</td>\n",
       "<td>0.5052632</td>\n",
       "<td>48 / 95</td></tr></table></div>"
      ],
      "text/plain": [
       "negative    neutral    positive    Error     Rate\n",
       "----------  ---------  ----------  --------  -------\n",
       "1           0          6           0.857143  6 / 7\n",
       "5           10         20          0.714286  25 / 35\n",
       "9           8          36          0.320755  17 / 53\n",
       "15          18         62          0.505263  48 / 95"
      ]
     },
     "metadata": {},
     "output_type": "display_data"
    },
    {
     "name": "stdout",
     "output_type": "stream",
     "text": [
      "Top-3 Hit Ratios: \n"
     ]
    },
    {
     "data": {
      "text/html": [
       "<div style=\"overflow:auto\"><table style=\"width:50%\"><tr><td><b>k</b></td>\n",
       "<td><b>hit_ratio</b></td></tr>\n",
       "<tr><td>1</td>\n",
       "<td>0.4947369</td></tr>\n",
       "<tr><td>2</td>\n",
       "<td>0.8315790</td></tr>\n",
       "<tr><td>3</td>\n",
       "<td>1.0</td></tr></table></div>"
      ],
      "text/plain": [
       "k    hit_ratio\n",
       "---  -----------\n",
       "1    0.494737\n",
       "2    0.831579\n",
       "3    1"
      ]
     },
     "metadata": {},
     "output_type": "display_data"
    },
    {
     "data": {
      "text/plain": []
     },
     "execution_count": 37,
     "metadata": {},
     "output_type": "execute_result"
    }
   ],
   "source": [
    "deep_perf = deep.model_performance(testv)\n",
    "deep_perf"
   ]
  },
  {
   "cell_type": "code",
   "execution_count": 38,
   "metadata": {},
   "outputs": [
    {
     "data": {
      "image/png": "[encoded data removed]",
      "text/plain": [
       "<Figure size 432x288 with 1 Axes>"
      ]
     },
     "metadata": {},
     "output_type": "display_data"
    }
   ],
   "source": [
    "deep.plot()"
   ]
  },
  {
   "cell_type": "code",
   "execution_count": 39,
   "metadata": {},
   "outputs": [
    {
     "data": {
      "image/png": "[encoded data removed]",
      "text/plain": [
       "<Figure size 1008x720 with 1 Axes>"
      ]
     },
     "metadata": {},
     "output_type": "display_data"
    }
   ],
   "source": [
    "deep.varimp_plot()"
   ]
  },
  {
   "cell_type": "code",
   "execution_count": 43,
   "metadata": {},
   "outputs": [
    {
     "name": "stdout",
     "output_type": "stream",
     "text": [
      "deeplearning prediction progress: |███████████████████████████████████████| 100%\n"
     ]
    },
    {
     "data": {
      "text/html": [
       "<table>\n",
       "<thead>\n",
       "<tr><th>predict  </th><th style=\"text-align: right;\">   negative</th><th style=\"text-align: right;\">  neutral</th><th style=\"text-align: right;\">  positive</th></tr>\n",
       "</thead>\n",
       "<tbody>\n",
       "<tr><td>positive </td><td style=\"text-align: right;\">0.0232155  </td><td style=\"text-align: right;\">0.374134 </td><td style=\"text-align: right;\">  0.60265 </td></tr>\n",
       "<tr><td>positive </td><td style=\"text-align: right;\">9.46692e-05</td><td style=\"text-align: right;\">0.0833983</td><td style=\"text-align: right;\">  0.916507</td></tr>\n",
       "<tr><td>positive </td><td style=\"text-align: right;\">0.0264043  </td><td style=\"text-align: right;\">0.388179 </td><td style=\"text-align: right;\">  0.585417</td></tr>\n",
       "<tr><td>positive </td><td style=\"text-align: right;\">0.0497186  </td><td style=\"text-align: right;\">0.105655 </td><td style=\"text-align: right;\">  0.844626</td></tr>\n",
       "<tr><td>positive </td><td style=\"text-align: right;\">0.374381   </td><td style=\"text-align: right;\">0.0600514</td><td style=\"text-align: right;\">  0.565567</td></tr>\n",
       "<tr><td>positive </td><td style=\"text-align: right;\">8.81471e-05</td><td style=\"text-align: right;\">0.152271 </td><td style=\"text-align: right;\">  0.847641</td></tr>\n",
       "<tr><td>positive </td><td style=\"text-align: right;\">1.03222e-05</td><td style=\"text-align: right;\">0.0619493</td><td style=\"text-align: right;\">  0.93804 </td></tr>\n",
       "<tr><td>negative </td><td style=\"text-align: right;\">0.83326    </td><td style=\"text-align: right;\">0.0371965</td><td style=\"text-align: right;\">  0.129544</td></tr>\n",
       "<tr><td>positive </td><td style=\"text-align: right;\">0.000824735</td><td style=\"text-align: right;\">0.161555 </td><td style=\"text-align: right;\">  0.83762 </td></tr>\n",
       "<tr><td>negative </td><td style=\"text-align: right;\">0.581795   </td><td style=\"text-align: right;\">0.0190626</td><td style=\"text-align: right;\">  0.399143</td></tr>\n",
       "</tbody>\n",
       "</table>"
      ]
     },
     "metadata": {},
     "output_type": "display_data"
    },
    {
     "data": {
      "text/plain": []
     },
     "execution_count": 43,
     "metadata": {},
     "output_type": "execute_result"
    }
   ],
   "source": [
    "deep_pred = deep.predict(testv)\n",
    "deep_pred"
   ]
  },
  {
   "cell_type": "code",
   "execution_count": 41,
   "metadata": {},
   "outputs": [
    {
     "name": "stdout",
     "output_type": "stream",
     "text": [
      "Confusion Matrix: Row labels: Actual class; Column labels: Predicted class\n",
      "\n"
     ]
    },
    {
     "data": {
      "text/html": [
       "<div style=\"overflow:auto\"><table style=\"width:50%\"><tr><td><b>negative</b></td>\n",
       "<td><b>neutral</b></td>\n",
       "<td><b>positive</b></td>\n",
       "<td><b>Error</b></td>\n",
       "<td><b>Rate</b></td></tr>\n",
       "<tr><td>1.0</td>\n",
       "<td>0.0</td>\n",
       "<td>6.0</td>\n",
       "<td>0.8571429</td>\n",
       "<td>6 / 7</td></tr>\n",
       "<tr><td>5.0</td>\n",
       "<td>10.0</td>\n",
       "<td>20.0</td>\n",
       "<td>0.7142857</td>\n",
       "<td>25 / 35</td></tr>\n",
       "<tr><td>9.0</td>\n",
       "<td>8.0</td>\n",
       "<td>36.0</td>\n",
       "<td>0.3207547</td>\n",
       "<td>17 / 53</td></tr>\n",
       "<tr><td>15.0</td>\n",
       "<td>18.0</td>\n",
       "<td>62.0</td>\n",
       "<td>0.5052632</td>\n",
       "<td>48 / 95</td></tr></table></div>"
      ],
      "text/plain": [
       "negative    neutral    positive    Error     Rate\n",
       "----------  ---------  ----------  --------  -------\n",
       "1           0          6           0.857143  6 / 7\n",
       "5           10         20          0.714286  25 / 35\n",
       "9           8          36          0.320755  17 / 53\n",
       "15          18         62          0.505263  48 / 95"
      ]
     },
     "metadata": {},
     "output_type": "display_data"
    },
    {
     "data": {
      "text/plain": []
     },
     "execution_count": 41,
     "metadata": {},
     "output_type": "execute_result"
    }
   ],
   "source": [
    "deep_perf.confusion_matrix()"
   ]
  },
  {
   "cell_type": "code",
   "execution_count": 44,
   "metadata": {},
   "outputs": [
    {
     "data": {
      "text/plain": [
       "0.5335295227315602"
      ]
     },
     "execution_count": 44,
     "metadata": {},
     "output_type": "execute_result"
    }
   ],
   "source": [
    "sklearn.metrics.precision_score(testv['sentiment'].as_data_frame(), deep_pred['predict'].as_data_frame(), average='weighted')"
   ]
  },
  {
   "cell_type": "code",
   "execution_count": 45,
   "metadata": {},
   "outputs": [
    {
     "data": {
      "text/plain": [
       "0.49473684210526314"
      ]
     },
     "execution_count": 45,
     "metadata": {},
     "output_type": "execute_result"
    }
   ],
   "source": [
    "sklearn.metrics.recall_score(testv['sentiment'].as_data_frame(), deep_pred['predict'].as_data_frame(), average='weighted')"
   ]
  },
  {
   "cell_type": "code",
   "execution_count": 46,
   "metadata": {},
   "outputs": [
    {
     "data": {
      "text/plain": [
       "0.49473684210526314"
      ]
     },
     "execution_count": 46,
     "metadata": {},
     "output_type": "execute_result"
    }
   ],
   "source": [
    "sklearn.metrics.accuracy_score(testv['sentiment'].as_data_frame(), deep_pred['predict'].as_data_frame())"
   ]
  },
  {
   "cell_type": "code",
   "execution_count": null,
   "metadata": {},
   "outputs": [],
   "source": []
  }
 ],
 "metadata": {
  "kernelspec": {
   "display_name": "Python 3",
   "language": "python",
   "name": "python3"
  },
  "language_info": {
   "codemirror_mode": {
    "name": "ipython",
    "version": 3
   },
   "file_extension": ".py",
   "mimetype": "text/x-python",
   "name": "python",
   "nbconvert_exporter": "python",
   "pygments_lexer": "ipython3",
   "version": "3.6.5"
  }
 },
 "nbformat": 4,
 "nbformat_minor": 2
}
