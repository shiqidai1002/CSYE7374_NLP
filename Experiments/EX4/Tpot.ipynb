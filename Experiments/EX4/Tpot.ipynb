{
 "cells": [
  {
   "cell_type": "code",
   "execution_count": 0,
   "metadata": {
    "colab": {},
    "colab_type": "code",
    "id": "h_nSGfOXWNOd"
   },
   "outputs": [],
   "source": [
    "from sklearn.model_selection import train_test_split\n",
    "import pandas as pd\n",
    "import numpy as np\n",
    "from tpot import TPOTClassifier\n",
    "import sklearn.metrics"
   ]
  },
  {
   "cell_type": "code",
   "execution_count": 0,
   "metadata": {
    "colab": {},
    "colab_type": "code",
    "id": "lOPjE5m-WQMp"
   },
   "outputs": [],
   "source": [
    "scores = pd.read_csv('data_for_automl.csv')"
   ]
  },
  {
   "cell_type": "code",
   "execution_count": 0,
   "metadata": {
    "colab": {},
    "colab_type": "code",
    "id": "xDvyuffNW0K9"
   },
   "outputs": [],
   "source": [
    "X_train, X_test, y_train, y_test = train_test_split(scores[['IBM', 'Azure', 'Google', 'AWS']], scores['sentiment'], test_size=0.3, random_state=1)"
   ]
  },
  {
   "cell_type": "code",
   "execution_count": 7,
   "metadata": {
    "colab": {
     "base_uri": "https://localhost:8080/",
     "height": 1251
    },
    "colab_type": "code",
    "executionInfo": {
     "elapsed": 560859,
     "status": "ok",
     "timestamp": 1543560773852,
     "user": {
      "displayName": "Gaurang Davda",
      "photoUrl": "",
      "userId": "13049524820076603455"
     },
     "user_tz": 300
    },
    "id": "FVmq-HfgW2CC",
    "outputId": "08583ed1-1ccd-4e54-d015-7390f1b70177"
   },
   "outputs": [
    {
     "name": "stderr",
     "output_type": "stream",
     "text": [
      "Optimization Progress:  33%|███▎      | 33/100 [00:10<00:17,  3.83pipeline/s]Exception ignored in: <bound method DMatrix.__del__ of <xgboost.core.DMatrix object at 0x7f6dfa67ad30>>\n",
      "Traceback (most recent call last):\n",
      "  File \"/usr/local/lib/python3.6/dist-packages/xgboost/core.py\", line 368, in __del__\n",
      "    if self.handle is not None:\n",
      "AttributeError: 'DMatrix' object has no attribute 'handle'\n",
      "Optimization Progress:  84%|████████▍ | 168/200 [00:51<00:09,  3.43pipeline/s]Exception ignored in: <bound method DMatrix.__del__ of <xgboost.core.DMatrix object at 0x7f6df9e38198>>\n",
      "Traceback (most recent call last):\n",
      "  File \"/usr/local/lib/python3.6/dist-packages/xgboost/core.py\", line 368, in __del__\n",
      "    if self.handle is not None:\n",
      "AttributeError: 'DMatrix' object has no attribute 'handle'\n",
      "Optimization Progress:  86%|████████▌ | 172/200 [00:52<00:07,  3.88pipeline/s]Exception ignored in: <bound method DMatrix.__del__ of <xgboost.core.DMatrix object at 0x7f6df9e380b8>>\n",
      "Traceback (most recent call last):\n",
      "  File \"/usr/local/lib/python3.6/dist-packages/xgboost/core.py\", line 368, in __del__\n",
      "    if self.handle is not None:\n",
      "AttributeError: 'DMatrix' object has no attribute 'handle'\n",
      "Optimization Progress:  88%|████████▊ | 176/200 [00:53<00:06,  3.58pipeline/s]Exception ignored in: <bound method DMatrix.__del__ of <xgboost.core.DMatrix object at 0x7f6df9e38128>>\n",
      "Traceback (most recent call last):\n",
      "  File \"/usr/local/lib/python3.6/dist-packages/xgboost/core.py\", line 368, in __del__\n",
      "    if self.handle is not None:\n",
      "AttributeError: 'DMatrix' object has no attribute 'handle'\n",
      "Optimization Progress: 100%|██████████| 200/200 [00:57<00:00,  6.33pipeline/s]"
     ]
    },
    {
     "name": "stdout",
     "output_type": "stream",
     "text": [
      "Generation 1 - Current best internal CV score: 0.6091000218706715\n"
     ]
    },
    {
     "name": "stderr",
     "output_type": "stream",
     "text": [
      "Optimization Progress: 100%|██████████| 300/300 [01:33<00:00,  3.82pipeline/s]"
     ]
    },
    {
     "name": "stdout",
     "output_type": "stream",
     "text": [
      "Generation 2 - Current best internal CV score: 0.6115045806906272\n"
     ]
    },
    {
     "name": "stderr",
     "output_type": "stream",
     "text": [
      "Optimization Progress:  75%|███████▌  | 301/400 [01:41<03:45,  2.28s/pipeline]Exception ignored in: <bound method DMatrix.__del__ of <xgboost.core.DMatrix object at 0x7f6df9de3c18>>\n",
      "Traceback (most recent call last):\n",
      "  File \"/usr/local/lib/python3.6/dist-packages/xgboost/core.py\", line 368, in __del__\n",
      "    if self.handle is not None:\n",
      "AttributeError: 'DMatrix' object has no attribute 'handle'\n",
      "Optimization Progress:  83%|████████▎ | 331/400 [01:54<00:37,  1.84pipeline/s]Exception ignored in: <bound method DMatrix.__del__ of <xgboost.core.DMatrix object at 0x7f6df9de39e8>>\n",
      "Traceback (most recent call last):\n",
      "  File \"/usr/local/lib/python3.6/dist-packages/xgboost/core.py\", line 368, in __del__\n",
      "    if self.handle is not None:\n",
      "AttributeError: 'DMatrix' object has no attribute 'handle'\n",
      "Optimization Progress: 100%|██████████| 400/400 [02:22<00:00,  3.31pipeline/s]"
     ]
    },
    {
     "name": "stdout",
     "output_type": "stream",
     "text": [
      "Generation 3 - Current best internal CV score: 0.6115045806906272\n"
     ]
    },
    {
     "name": "stderr",
     "output_type": "stream",
     "text": [
      "Optimization Progress:  89%|████████▉ | 444/500 [02:44<00:24,  2.25pipeline/s]Exception ignored in: <bound method DMatrix.__del__ of <xgboost.core.DMatrix object at 0x7f6df9db9fd0>>\n",
      "Traceback (most recent call last):\n",
      "  File \"/usr/local/lib/python3.6/dist-packages/xgboost/core.py\", line 368, in __del__\n",
      "    if self.handle is not None:\n",
      "AttributeError: 'DMatrix' object has no attribute 'handle'\n",
      "Optimization Progress:  92%|█████████▏| 460/500 [02:48<00:12,  3.30pipeline/s]Exception ignored in: <bound method DMatrix.__del__ of <xgboost.core.DMatrix object at 0x7f6df9d8f630>>\n",
      "Traceback (most recent call last):\n",
      "  File \"/usr/local/lib/python3.6/dist-packages/xgboost/core.py\", line 368, in __del__\n",
      "    if self.handle is not None:\n",
      "AttributeError: 'DMatrix' object has no attribute 'handle'\n",
      "Optimization Progress:  98%|█████████▊| 488/500 [02:56<00:03,  3.98pipeline/s]Exception ignored in: <bound method DMatrix.__del__ of <xgboost.core.DMatrix object at 0x7f6df9db99e8>>\n",
      "Traceback (most recent call last):\n",
      "  File \"/usr/local/lib/python3.6/dist-packages/xgboost/core.py\", line 368, in __del__\n",
      "    if self.handle is not None:\n",
      "AttributeError: 'DMatrix' object has no attribute 'handle'\n",
      "Optimization Progress: 100%|██████████| 500/500 [03:04<00:00,  2.18pipeline/s]"
     ]
    },
    {
     "name": "stdout",
     "output_type": "stream",
     "text": [
      "Generation 4 - Current best internal CV score: 0.6115045806906272\n"
     ]
    },
    {
     "name": "stderr",
     "output_type": "stream",
     "text": [
      "Optimization Progress: 100%|██████████| 600/600 [03:35<00:00,  7.78pipeline/s]"
     ]
    },
    {
     "name": "stdout",
     "output_type": "stream",
     "text": [
      "Generation 5 - Current best internal CV score: 0.6205948822628855\n"
     ]
    },
    {
     "name": "stderr",
     "output_type": "stream",
     "text": [
      "Optimization Progress: 100%|██████████| 700/700 [04:10<00:00,  4.09pipeline/s]"
     ]
    },
    {
     "name": "stdout",
     "output_type": "stream",
     "text": [
      "Generation 6 - Current best internal CV score: 0.6205948822628855\n"
     ]
    },
    {
     "name": "stderr",
     "output_type": "stream",
     "text": [
      "Optimization Progress: 100%|██████████| 800/800 [04:39<00:00,  6.27pipeline/s]"
     ]
    },
    {
     "name": "stdout",
     "output_type": "stream",
     "text": [
      "Generation 7 - Current best internal CV score: 0.6205948822628855\n"
     ]
    },
    {
     "name": "stderr",
     "output_type": "stream",
     "text": [
      "Optimization Progress: 100%|██████████| 900/900 [05:12<00:00,  4.27pipeline/s]"
     ]
    },
    {
     "name": "stdout",
     "output_type": "stream",
     "text": [
      "Generation 8 - Current best internal CV score: 0.6205948822628855\n"
     ]
    },
    {
     "name": "stderr",
     "output_type": "stream",
     "text": [
      "Optimization Progress: 100%|██████████| 1000/1000 [05:41<00:00,  3.74pipeline/s]"
     ]
    },
    {
     "name": "stdout",
     "output_type": "stream",
     "text": [
      "Generation 9 - Current best internal CV score: 0.6205948822628855\n"
     ]
    },
    {
     "name": "stderr",
     "output_type": "stream",
     "text": [
      "Optimization Progress: 100%|██████████| 1100/1100 [06:04<00:00,  6.24pipeline/s]"
     ]
    },
    {
     "name": "stdout",
     "output_type": "stream",
     "text": [
      "Generation 10 - Current best internal CV score: 0.6205948822628855\n"
     ]
    },
    {
     "name": "stderr",
     "output_type": "stream",
     "text": [
      "Optimization Progress: 100%|██████████| 1200/1200 [06:34<00:00,  4.38pipeline/s]"
     ]
    },
    {
     "name": "stdout",
     "output_type": "stream",
     "text": [
      "Generation 11 - Current best internal CV score: 0.6205948822628855\n"
     ]
    },
    {
     "name": "stderr",
     "output_type": "stream",
     "text": [
      "Optimization Progress: 100%|██████████| 1300/1300 [06:52<00:00, 10.87pipeline/s]"
     ]
    },
    {
     "name": "stdout",
     "output_type": "stream",
     "text": [
      "Generation 12 - Current best internal CV score: 0.6205948822628855\n"
     ]
    },
    {
     "name": "stderr",
     "output_type": "stream",
     "text": [
      "Optimization Progress: 100%|██████████| 1400/1400 [07:19<00:00,  5.04pipeline/s]"
     ]
    },
    {
     "name": "stdout",
     "output_type": "stream",
     "text": [
      "Generation 13 - Current best internal CV score: 0.6205948822628855\n"
     ]
    },
    {
     "name": "stderr",
     "output_type": "stream",
     "text": [
      "Optimization Progress: 100%|██████████| 1500/1500 [07:47<00:00,  5.00pipeline/s]"
     ]
    },
    {
     "name": "stdout",
     "output_type": "stream",
     "text": [
      "Generation 14 - Current best internal CV score: 0.6205948822628855\n"
     ]
    },
    {
     "name": "stderr",
     "output_type": "stream",
     "text": [
      "Optimization Progress: 100%|██████████| 1600/1600 [08:14<00:00,  2.60pipeline/s]"
     ]
    },
    {
     "name": "stdout",
     "output_type": "stream",
     "text": [
      "Generation 15 - Current best internal CV score: 0.6205948822628855\n"
     ]
    },
    {
     "name": "stderr",
     "output_type": "stream",
     "text": [
      "Optimization Progress: 100%|██████████| 1700/1700 [08:35<00:00,  5.33pipeline/s]"
     ]
    },
    {
     "name": "stdout",
     "output_type": "stream",
     "text": [
      "Generation 16 - Current best internal CV score: 0.6205948822628855\n"
     ]
    },
    {
     "name": "stderr",
     "output_type": "stream",
     "text": [
      "Optimization Progress: 100%|██████████| 1800/1800 [08:57<00:00,  4.41pipeline/s]"
     ]
    },
    {
     "name": "stdout",
     "output_type": "stream",
     "text": [
      "Generation 17 - Current best internal CV score: 0.6205948822628855\n"
     ]
    },
    {
     "name": "stderr",
     "output_type": "stream",
     "text": [
      "                                                                                "
     ]
    },
    {
     "name": "stdout",
     "output_type": "stream",
     "text": [
      "Generation 18 - Current best internal CV score: 0.6205948822628855\n",
      "\n",
      "The optimized pipeline was not improved after evaluating 5 more generations. Will end the optimization process.\n",
      "\n",
      "TPOT closed prematurely. Will use the current best pipeline.\n",
      "\n",
      "Best pipeline: KNeighborsClassifier(Normalizer(StandardScaler(input_matrix), norm=l1), n_neighbors=37, p=1, weights=distance)\n"
     ]
    },
    {
     "name": "stderr",
     "output_type": "stream",
     "text": [
      "\r"
     ]
    }
   ],
   "source": [
    "tpot = TPOTClassifier(generations=10, population_size=100, early_stop=5, verbosity=2, n_jobs=2, max_time_mins=100)\n",
    "result = tpot.fit(X_train, y_train)"
   ]
  },
  {
   "cell_type": "code",
   "execution_count": 0,
   "metadata": {
    "colab": {},
    "colab_type": "code",
    "id": "Nrv5_UTfW3Ie"
   },
   "outputs": [],
   "source": [
    "pred = tpot.predict(X_test)"
   ]
  },
  {
   "cell_type": "code",
   "execution_count": 22,
   "metadata": {
    "colab": {
     "base_uri": "https://localhost:8080/",
     "height": 136
    },
    "colab_type": "code",
    "executionInfo": {
     "elapsed": 268,
     "status": "ok",
     "timestamp": 1543563056433,
     "user": {
      "displayName": "Gaurang Davda",
      "photoUrl": "",
      "userId": "13049524820076603455"
     },
     "user_tz": 300
    },
    "id": "9n3CPG1JbunA",
    "outputId": "7ef22421-77a2-4d0f-f00d-997f0a04da32"
   },
   "outputs": [
    {
     "data": {
      "text/html": [
       "<div>\n",
       "<style scoped>\n",
       "    .dataframe tbody tr th:only-of-type {\n",
       "        vertical-align: middle;\n",
       "    }\n",
       "\n",
       "    .dataframe tbody tr th {\n",
       "        vertical-align: top;\n",
       "    }\n",
       "\n",
       "    .dataframe thead th {\n",
       "        text-align: right;\n",
       "    }\n",
       "</style>\n",
       "<table border=\"1\" class=\"dataframe\">\n",
       "  <thead>\n",
       "    <tr style=\"text-align: right;\">\n",
       "      <th></th>\n",
       "      <th>negative</th>\n",
       "      <th>neutral</th>\n",
       "      <th>positive</th>\n",
       "    </tr>\n",
       "  </thead>\n",
       "  <tbody>\n",
       "    <tr>\n",
       "      <th>negative</th>\n",
       "      <td>0</td>\n",
       "      <td>9</td>\n",
       "      <td>8</td>\n",
       "    </tr>\n",
       "    <tr>\n",
       "      <th>neutral</th>\n",
       "      <td>0</td>\n",
       "      <td>39</td>\n",
       "      <td>37</td>\n",
       "    </tr>\n",
       "    <tr>\n",
       "      <th>positive</th>\n",
       "      <td>0</td>\n",
       "      <td>29</td>\n",
       "      <td>65</td>\n",
       "    </tr>\n",
       "  </tbody>\n",
       "</table>\n",
       "</div>"
      ],
      "text/plain": [
       "          negative  neutral  positive\n",
       "negative         0        9         8\n",
       "neutral          0       39        37\n",
       "positive         0       29        65"
      ]
     },
     "execution_count": 22,
     "metadata": {
      "tags": []
     },
     "output_type": "execute_result"
    }
   ],
   "source": [
    "pd.DataFrame(data=sklearn.metrics.confusion_matrix(y_test, pred), columns=['negative', 'neutral', 'positive'], index=['negative', 'neutral', 'positive'])"
   ]
  },
  {
   "cell_type": "code",
   "execution_count": 18,
   "metadata": {
    "colab": {
     "base_uri": "https://localhost:8080/",
     "height": 90
    },
    "colab_type": "code",
    "executionInfo": {
     "elapsed": 304,
     "status": "ok",
     "timestamp": 1543562766222,
     "user": {
      "displayName": "Gaurang Davda",
      "photoUrl": "",
      "userId": "13049524820076603455"
     },
     "user_tz": 300
    },
    "id": "lzmZd2EncnbW",
    "outputId": "e2a22d3e-64b5-427e-8977-d99db798a7d7"
   },
   "outputs": [
    {
     "name": "stderr",
     "output_type": "stream",
     "text": [
      "/usr/local/lib/python3.6/dist-packages/sklearn/metrics/classification.py:1135: UndefinedMetricWarning: Precision is ill-defined and being set to 0.0 in labels with no predicted samples.\n",
      "  'precision', 'predicted', average, warn_for)\n"
     ]
    },
    {
     "data": {
      "text/plain": [
       "0.5028821445933745"
      ]
     },
     "execution_count": 18,
     "metadata": {
      "tags": []
     },
     "output_type": "execute_result"
    }
   ],
   "source": [
    "sklearn.metrics.precision_score(y_test, pred, average='weighted')"
   ]
  },
  {
   "cell_type": "code",
   "execution_count": 19,
   "metadata": {
    "colab": {
     "base_uri": "https://localhost:8080/",
     "height": 34
    },
    "colab_type": "code",
    "executionInfo": {
     "elapsed": 236,
     "status": "ok",
     "timestamp": 1543562788525,
     "user": {
      "displayName": "Gaurang Davda",
      "photoUrl": "",
      "userId": "13049524820076603455"
     },
     "user_tz": 300
    },
    "id": "tdiMpmijfReO",
    "outputId": "5c5747c6-d1b7-4834-daee-01f6fbdc70dd"
   },
   "outputs": [
    {
     "data": {
      "text/plain": [
       "0.5561497326203209"
      ]
     },
     "execution_count": 19,
     "metadata": {
      "tags": []
     },
     "output_type": "execute_result"
    }
   ],
   "source": [
    "sklearn.metrics.recall_score(y_test, pred, average='weighted')"
   ]
  },
  {
   "cell_type": "code",
   "execution_count": 20,
   "metadata": {
    "colab": {
     "base_uri": "https://localhost:8080/",
     "height": 34
    },
    "colab_type": "code",
    "executionInfo": {
     "elapsed": 262,
     "status": "ok",
     "timestamp": 1543562864132,
     "user": {
      "displayName": "Gaurang Davda",
      "photoUrl": "",
      "userId": "13049524820076603455"
     },
     "user_tz": 300
    },
    "id": "_VwpwHFJgv04",
    "outputId": "dfbfb941-7f64-4eee-a87f-637a5c6f7a90"
   },
   "outputs": [
    {
     "data": {
      "text/plain": [
       "0.5561497326203209"
      ]
     },
     "execution_count": 20,
     "metadata": {
      "tags": []
     },
     "output_type": "execute_result"
    }
   ],
   "source": [
    "sklearn.metrics.accuracy_score(y_test, pred)"
   ]
  },
  {
   "cell_type": "code",
   "execution_count": 23,
   "metadata": {
    "colab": {
     "base_uri": "https://localhost:8080/",
     "height": 34
    },
    "colab_type": "code",
    "executionInfo": {
     "elapsed": 246,
     "status": "ok",
     "timestamp": 1543563094831,
     "user": {
      "displayName": "Gaurang Davda",
      "photoUrl": "",
      "userId": "13049524820076603455"
     },
     "user_tz": 300
    },
    "id": "bIrw3ML7hCR5",
    "outputId": "d7960f8f-24a7-42c3-a24c-15100f072483"
   },
   "outputs": [
    {
     "data": {
      "text/plain": [
       "True"
      ]
     },
     "execution_count": 23,
     "metadata": {
      "tags": []
     },
     "output_type": "execute_result"
    }
   ],
   "source": [
    "tpot.export('best_tpot_pipeline.py')"
   ]
  },
  {
   "cell_type": "code",
   "execution_count": null,
   "metadata": {},
   "outputs": [],
   "source": []
  }
 ],
 "metadata": {
  "colab": {
   "collapsed_sections": [],
   "name": "Tpot.ipynb",
   "provenance": [],
   "version": "0.3.2"
  },
  "kernelspec": {
   "display_name": "Python 3",
   "language": "python",
   "name": "python3"
  },
  "language_info": {
   "codemirror_mode": {
    "name": "ipython",
    "version": 3
   },
   "file_extension": ".py",
   "mimetype": "text/x-python",
   "name": "python",
   "nbconvert_exporter": "python",
   "pygments_lexer": "ipython3",
   "version": "3.6.5"
  }
 },
 "nbformat": 4,
 "nbformat_minor": 1
}
